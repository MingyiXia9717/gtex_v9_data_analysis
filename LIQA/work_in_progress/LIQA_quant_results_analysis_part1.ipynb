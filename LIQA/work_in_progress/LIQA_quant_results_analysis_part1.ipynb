{
 "cells": [
  {
   "cell_type": "markdown",
   "id": "9b74eb3d",
   "metadata": {},
   "source": [
    "# LIQA Transcript Quantification Results Analysis Part 1"
   ]
  },
  {
   "cell_type": "markdown",
   "id": "bea2faf9",
   "metadata": {},
   "source": [
    "In this notebook, I imported and merged transcript quantification results obtained from LIQA. The long-read RNA-seq dataset I used is from Glinos et al. (2022) paper. This notebook also includes a section for exploring missing output from LIQA."
   ]
  },
  {
   "cell_type": "markdown",
   "id": "26f2410c",
   "metadata": {},
   "source": [
    "## Part 1: Import Data and Configure Python Libraries"
   ]
  },
  {
   "cell_type": "code",
   "execution_count": 2,
   "id": "b9a45bb8",
   "metadata": {},
   "outputs": [],
   "source": [
    "import os\n",
    "import glob\n",
    "import numpy as np\n",
    "import pandas as pd\n",
    "import matplotlib.pyplot as plt\n",
    "import matplotlib.gridspec\n",
    "%matplotlib inline\n",
    "import seaborn as sns\n",
    "import re\n",
    "from IPython.display import display\n",
    "from matplotlib.pyplot import gcf\n",
    "from sklearn.decomposition import PCA \n",
    "from sklearn.preprocessing import StandardScaler\n",
    "from PIL import ImageColor\n",
    "from matplotlib.patches import Patch #for custom legend making\n",
    "import scipy.spatial as sp, scipy.cluster.hierarchy as hc #for faster computing of hierarchial clusters"
   ]
  },
  {
   "cell_type": "code",
   "execution_count": 2,
   "id": "0ea5fde1",
   "metadata": {},
   "outputs": [],
   "source": [
    "#pd.options.display.max_columns = None #display all columns in dataframe\n",
    "#pd.options.display.max_rows = None"
   ]
  },
  {
   "cell_type": "code",
   "execution_count": 3,
   "id": "31a7c3f8",
   "metadata": {},
   "outputs": [],
   "source": [
    "#pd.options.display.max_colwidth = 100 #show the full content of long strings"
   ]
  },
  {
   "cell_type": "markdown",
   "id": "ecae2876",
   "metadata": {},
   "source": [
    "### Import Data"
   ]
  },
  {
   "cell_type": "code",
   "execution_count": 3,
   "id": "93513150",
   "metadata": {},
   "outputs": [
    {
     "data": {
      "text/plain": [
       "'C:\\\\Users\\\\15082\\\\OneDrive\\\\Desktop\\\\thesis_research\\\\gtex_v9_data_analysis\\\\LIQA\\\\work_in_progress'"
      ]
     },
     "execution_count": 3,
     "metadata": {},
     "output_type": "execute_result"
    }
   ],
   "source": [
    "os.getcwd()"
   ]
  },
  {
   "cell_type": "code",
   "execution_count": 4,
   "id": "1b385f6c",
   "metadata": {},
   "outputs": [],
   "source": [
    "data_dir = 'gtex_v9_data\\\\data_for_analysis'\n",
    "liqa_quant_results_file_path = os.path.join(data_dir, 'my_liqa_data')\n",
    "sample_info_path = os.path.join(data_dir, 'gtex_database_data\\\\sample_info_complete.csv')"
   ]
  },
  {
   "cell_type": "markdown",
   "id": "8ee1bb5b",
   "metadata": {},
   "source": [
    "#### Read data into pandas dataframe"
   ]
  },
  {
   "cell_type": "code",
   "execution_count": 6,
   "id": "18b704e0",
   "metadata": {},
   "outputs": [],
   "source": [
    "# change working directory\n",
    "os.chdir('C:\\\\Users\\\\15082\\\\OneDrive\\\\Desktop\\\\thesis_research')"
   ]
  },
  {
   "cell_type": "code",
   "execution_count": 7,
   "id": "2827cfbe",
   "metadata": {},
   "outputs": [],
   "source": [
    "sample_info = pd.read_csv(sample_info_path,sep=',')"
   ]
  },
  {
   "cell_type": "markdown",
   "id": "a921d6fb",
   "metadata": {},
   "source": [
    "## Part 2: Data Manipulation and Merging"
   ]
  },
  {
   "cell_type": "markdown",
   "id": "b89b22da",
   "metadata": {},
   "source": [
    "### Merge Data (LIQA quantification output files)"
   ]
  },
  {
   "cell_type": "markdown",
   "id": "02b2afa2",
   "metadata": {},
   "source": [
    "Merge 92 separate files into one Pandas dataframe."
   ]
  },
  {
   "cell_type": "code",
   "execution_count": 8,
   "id": "e2c2aca2",
   "metadata": {},
   "outputs": [],
   "source": [
    "#change our working directory to the directory where we have all the data files\n",
    "os.chdir(liqa_quant_results_file_path)"
   ]
  },
  {
   "cell_type": "code",
   "execution_count": 9,
   "id": "0ef792bf",
   "metadata": {},
   "outputs": [],
   "source": [
    "# Getting the FileNames of all txt files in the current dir.\n",
    "filenames = [i for i in glob.glob(f\"*.txt\")] "
   ]
  },
  {
   "cell_type": "code",
   "execution_count": 10,
   "id": "592da02d",
   "metadata": {},
   "outputs": [],
   "source": [
    "# base case to build the merged dataframe\n",
    "liqa_merged_df = pd.read_csv(filenames[0],sep=\"\\t\")\n",
    "liqa_merged_df['composite_id'] = liqa_merged_df.apply(lambda x:'%s_%s' % (x['IsoformName'],x['GeneName']),axis=1)"
   ]
  },
  {
   "cell_type": "code",
   "execution_count": 11,
   "id": "38c34b09",
   "metadata": {},
   "outputs": [
    {
     "data": {
      "text/html": [
       "<div>\n",
       "<style scoped>\n",
       "    .dataframe tbody tr th:only-of-type {\n",
       "        vertical-align: middle;\n",
       "    }\n",
       "\n",
       "    .dataframe tbody tr th {\n",
       "        vertical-align: top;\n",
       "    }\n",
       "\n",
       "    .dataframe thead th {\n",
       "        text-align: right;\n",
       "    }\n",
       "</style>\n",
       "<table border=\"1\" class=\"dataframe\">\n",
       "  <thead>\n",
       "    <tr style=\"text-align: right;\">\n",
       "      <th></th>\n",
       "      <th>GeneName</th>\n",
       "      <th>IsoformName</th>\n",
       "      <th>ReadPerGene_corrected</th>\n",
       "      <th>RelativeAbundance</th>\n",
       "      <th>infor_ratio</th>\n",
       "      <th>composite_id</th>\n",
       "    </tr>\n",
       "  </thead>\n",
       "  <tbody>\n",
       "    <tr>\n",
       "      <th>0</th>\n",
       "      <td>ENSG00000204540.10</td>\n",
       "      <td>ENST00000479581.5</td>\n",
       "      <td>3.675106e-16</td>\n",
       "      <td>9.187765e-17</td>\n",
       "      <td>0.25</td>\n",
       "      <td>ENST00000479581.5_ENSG00000204540.10</td>\n",
       "    </tr>\n",
       "    <tr>\n",
       "      <th>1</th>\n",
       "      <td>ENSG00000204540.10</td>\n",
       "      <td>130750ff-7bd5-42fc-9951-2ee00e4c4253_ENSG00000...</td>\n",
       "      <td>1.072175e-16</td>\n",
       "      <td>2.680438e-17</td>\n",
       "      <td>0.25</td>\n",
       "      <td>130750ff-7bd5-42fc-9951-2ee00e4c4253_ENSG00000...</td>\n",
       "    </tr>\n",
       "    <tr>\n",
       "      <th>2</th>\n",
       "      <td>ENSG00000204540.10</td>\n",
       "      <td>0d6ef114-5d3f-4df1-a18b-02c128c21368_ENSG00000...</td>\n",
       "      <td>1.093079e-03</td>\n",
       "      <td>2.732699e-04</td>\n",
       "      <td>0.25</td>\n",
       "      <td>0d6ef114-5d3f-4df1-a18b-02c128c21368_ENSG00000...</td>\n",
       "    </tr>\n",
       "  </tbody>\n",
       "</table>\n",
       "</div>"
      ],
      "text/plain": [
       "             GeneName                                        IsoformName  \\\n",
       "0  ENSG00000204540.10                                  ENST00000479581.5   \n",
       "1  ENSG00000204540.10  130750ff-7bd5-42fc-9951-2ee00e4c4253_ENSG00000...   \n",
       "2  ENSG00000204540.10  0d6ef114-5d3f-4df1-a18b-02c128c21368_ENSG00000...   \n",
       "\n",
       "   ReadPerGene_corrected  RelativeAbundance  infor_ratio  \\\n",
       "0           3.675106e-16       9.187765e-17         0.25   \n",
       "1           1.072175e-16       2.680438e-17         0.25   \n",
       "2           1.093079e-03       2.732699e-04         0.25   \n",
       "\n",
       "                                        composite_id  \n",
       "0               ENST00000479581.5_ENSG00000204540.10  \n",
       "1  130750ff-7bd5-42fc-9951-2ee00e4c4253_ENSG00000...  \n",
       "2  0d6ef114-5d3f-4df1-a18b-02c128c21368_ENSG00000...  "
      ]
     },
     "execution_count": 11,
     "metadata": {},
     "output_type": "execute_result"
    }
   ],
   "source": [
    "liqa_merged_df.head(3)"
   ]
  },
  {
   "cell_type": "code",
   "execution_count": 12,
   "id": "bdb06369",
   "metadata": {},
   "outputs": [
    {
     "data": {
      "text/plain": [
       "(49189, 6)"
      ]
     },
     "execution_count": 12,
     "metadata": {},
     "output_type": "execute_result"
    }
   ],
   "source": [
    "liqa_merged_df.shape"
   ]
  },
  {
   "cell_type": "code",
   "execution_count": 14,
   "id": "b3d46051",
   "metadata": {},
   "outputs": [
    {
     "data": {
      "text/html": [
       "<div>\n",
       "<style scoped>\n",
       "    .dataframe tbody tr th:only-of-type {\n",
       "        vertical-align: middle;\n",
       "    }\n",
       "\n",
       "    .dataframe tbody tr th {\n",
       "        vertical-align: top;\n",
       "    }\n",
       "\n",
       "    .dataframe thead th {\n",
       "        text-align: right;\n",
       "    }\n",
       "</style>\n",
       "<table border=\"1\" class=\"dataframe\">\n",
       "  <thead>\n",
       "    <tr style=\"text-align: right;\">\n",
       "      <th></th>\n",
       "      <th>GeneName</th>\n",
       "      <th>IsoformName</th>\n",
       "      <th>ReadPerGene_corrected</th>\n",
       "      <th>RelativeAbundance</th>\n",
       "      <th>infor_ratio</th>\n",
       "      <th>composite_id</th>\n",
       "    </tr>\n",
       "  </thead>\n",
       "  <tbody>\n",
       "    <tr>\n",
       "      <th>0</th>\n",
       "      <td>ENSG00000204540.10</td>\n",
       "      <td>ENST00000479581.5</td>\n",
       "      <td>3.675106e-16</td>\n",
       "      <td>9.187765e-17</td>\n",
       "      <td>0.25</td>\n",
       "      <td>ENST00000479581.5_ENSG00000204540.10</td>\n",
       "    </tr>\n",
       "    <tr>\n",
       "      <th>1</th>\n",
       "      <td>ENSG00000204540.10</td>\n",
       "      <td>130750ff-7bd5-42fc-9951-2ee00e4c4253_ENSG00000...</td>\n",
       "      <td>1.072175e-16</td>\n",
       "      <td>2.680438e-17</td>\n",
       "      <td>0.25</td>\n",
       "      <td>130750ff-7bd5-42fc-9951-2ee00e4c4253_ENSG00000...</td>\n",
       "    </tr>\n",
       "    <tr>\n",
       "      <th>2</th>\n",
       "      <td>ENSG00000204540.10</td>\n",
       "      <td>0d6ef114-5d3f-4df1-a18b-02c128c21368_ENSG00000...</td>\n",
       "      <td>1.093079e-03</td>\n",
       "      <td>2.732699e-04</td>\n",
       "      <td>0.25</td>\n",
       "      <td>0d6ef114-5d3f-4df1-a18b-02c128c21368_ENSG00000...</td>\n",
       "    </tr>\n",
       "    <tr>\n",
       "      <th>3</th>\n",
       "      <td>ENSG00000204540.10</td>\n",
       "      <td>e692f135-46a2-4cf8-953c-c0c636810214_ENSG00000...</td>\n",
       "      <td>1.560275e-16</td>\n",
       "      <td>3.900688e-17</td>\n",
       "      <td>0.25</td>\n",
       "      <td>e692f135-46a2-4cf8-953c-c0c636810214_ENSG00000...</td>\n",
       "    </tr>\n",
       "    <tr>\n",
       "      <th>4</th>\n",
       "      <td>ENSG00000204540.10</td>\n",
       "      <td>73af7ae0-6dc4-4d06-8132-8e644cb837f4_ENSG00000...</td>\n",
       "      <td>3.998907e+00</td>\n",
       "      <td>9.997267e-01</td>\n",
       "      <td>0.25</td>\n",
       "      <td>73af7ae0-6dc4-4d06-8132-8e644cb837f4_ENSG00000...</td>\n",
       "    </tr>\n",
       "  </tbody>\n",
       "</table>\n",
       "</div>"
      ],
      "text/plain": [
       "             GeneName                                        IsoformName  \\\n",
       "0  ENSG00000204540.10                                  ENST00000479581.5   \n",
       "1  ENSG00000204540.10  130750ff-7bd5-42fc-9951-2ee00e4c4253_ENSG00000...   \n",
       "2  ENSG00000204540.10  0d6ef114-5d3f-4df1-a18b-02c128c21368_ENSG00000...   \n",
       "3  ENSG00000204540.10  e692f135-46a2-4cf8-953c-c0c636810214_ENSG00000...   \n",
       "4  ENSG00000204540.10  73af7ae0-6dc4-4d06-8132-8e644cb837f4_ENSG00000...   \n",
       "\n",
       "   ReadPerGene_corrected  RelativeAbundance  infor_ratio  \\\n",
       "0           3.675106e-16       9.187765e-17         0.25   \n",
       "1           1.072175e-16       2.680438e-17         0.25   \n",
       "2           1.093079e-03       2.732699e-04         0.25   \n",
       "3           1.560275e-16       3.900688e-17         0.25   \n",
       "4           3.998907e+00       9.997267e-01         0.25   \n",
       "\n",
       "                                        composite_id  \n",
       "0               ENST00000479581.5_ENSG00000204540.10  \n",
       "1  130750ff-7bd5-42fc-9951-2ee00e4c4253_ENSG00000...  \n",
       "2  0d6ef114-5d3f-4df1-a18b-02c128c21368_ENSG00000...  \n",
       "3  e692f135-46a2-4cf8-953c-c0c636810214_ENSG00000...  \n",
       "4  73af7ae0-6dc4-4d06-8132-8e644cb837f4_ENSG00000...  "
      ]
     },
     "execution_count": 14,
     "metadata": {},
     "output_type": "execute_result"
    }
   ],
   "source": [
    "liqa_merged_df.head()"
   ]
  },
  {
   "cell_type": "code",
   "execution_count": 15,
   "id": "5684e14d",
   "metadata": {},
   "outputs": [],
   "source": [
    "liqa_merged_df = liqa_merged_df[['composite_id','ReadPerGene_corrected']]\n",
    "liqa_merged_df = liqa_merged_df.rename(columns={'ReadPerGene_corrected': filenames[0].split('.')[0]})"
   ]
  },
  {
   "cell_type": "code",
   "execution_count": 16,
   "id": "3c04042a",
   "metadata": {},
   "outputs": [
    {
     "data": {
      "text/html": [
       "<div>\n",
       "<style scoped>\n",
       "    .dataframe tbody tr th:only-of-type {\n",
       "        vertical-align: middle;\n",
       "    }\n",
       "\n",
       "    .dataframe tbody tr th {\n",
       "        vertical-align: top;\n",
       "    }\n",
       "\n",
       "    .dataframe thead th {\n",
       "        text-align: right;\n",
       "    }\n",
       "</style>\n",
       "<table border=\"1\" class=\"dataframe\">\n",
       "  <thead>\n",
       "    <tr style=\"text-align: right;\">\n",
       "      <th></th>\n",
       "      <th>composite_id</th>\n",
       "      <th>GTEX-1192X-0011-R10a-SM-4RXXZ</th>\n",
       "    </tr>\n",
       "  </thead>\n",
       "  <tbody>\n",
       "    <tr>\n",
       "      <th>0</th>\n",
       "      <td>ENST00000479581.5_ENSG00000204540.10</td>\n",
       "      <td>3.675106e-16</td>\n",
       "    </tr>\n",
       "    <tr>\n",
       "      <th>1</th>\n",
       "      <td>130750ff-7bd5-42fc-9951-2ee00e4c4253_ENSG00000...</td>\n",
       "      <td>1.072175e-16</td>\n",
       "    </tr>\n",
       "    <tr>\n",
       "      <th>2</th>\n",
       "      <td>0d6ef114-5d3f-4df1-a18b-02c128c21368_ENSG00000...</td>\n",
       "      <td>1.093079e-03</td>\n",
       "    </tr>\n",
       "    <tr>\n",
       "      <th>3</th>\n",
       "      <td>e692f135-46a2-4cf8-953c-c0c636810214_ENSG00000...</td>\n",
       "      <td>1.560275e-16</td>\n",
       "    </tr>\n",
       "    <tr>\n",
       "      <th>4</th>\n",
       "      <td>73af7ae0-6dc4-4d06-8132-8e644cb837f4_ENSG00000...</td>\n",
       "      <td>3.998907e+00</td>\n",
       "    </tr>\n",
       "  </tbody>\n",
       "</table>\n",
       "</div>"
      ],
      "text/plain": [
       "                                        composite_id  \\\n",
       "0               ENST00000479581.5_ENSG00000204540.10   \n",
       "1  130750ff-7bd5-42fc-9951-2ee00e4c4253_ENSG00000...   \n",
       "2  0d6ef114-5d3f-4df1-a18b-02c128c21368_ENSG00000...   \n",
       "3  e692f135-46a2-4cf8-953c-c0c636810214_ENSG00000...   \n",
       "4  73af7ae0-6dc4-4d06-8132-8e644cb837f4_ENSG00000...   \n",
       "\n",
       "   GTEX-1192X-0011-R10a-SM-4RXXZ  \n",
       "0                   3.675106e-16  \n",
       "1                   1.072175e-16  \n",
       "2                   1.093079e-03  \n",
       "3                   1.560275e-16  \n",
       "4                   3.998907e+00  "
      ]
     },
     "execution_count": 16,
     "metadata": {},
     "output_type": "execute_result"
    }
   ],
   "source": [
    "liqa_merged_df.head()"
   ]
  },
  {
   "cell_type": "code",
   "execution_count": 17,
   "id": "166e6b65",
   "metadata": {},
   "outputs": [],
   "source": [
    "# remove the first filename from the list\n",
    "filenames_updated = filenames[1:] #remove the first file because it's already used to make the base dataframe"
   ]
  },
  {
   "cell_type": "code",
   "execution_count": 18,
   "id": "51432a0a",
   "metadata": {},
   "outputs": [
    {
     "data": {
      "text/plain": [
       "91"
      ]
     },
     "execution_count": 18,
     "metadata": {},
     "output_type": "execute_result"
    }
   ],
   "source": [
    "len(filenames_updated)"
   ]
  },
  {
   "cell_type": "code",
   "execution_count": 20,
   "id": "c03f0db5",
   "metadata": {},
   "outputs": [],
   "source": [
    "# loop through the list of filenames, create pandas dataframe, extract columns of interest and append to liqa_merged_df\n",
    "for file in filenames_updated:\n",
    "    # read text file into pandas dataframe\n",
    "    quant_df = pd.read_csv(file,sep=\"\\t\")\n",
    "    # create composite id\n",
    "    quant_df['composite_id'] = quant_df.apply(lambda x:'%s_%s' % (x['IsoformName'],x['GeneName']),axis=1)\n",
    "    # select columns\n",
    "    quant_df = quant_df[['composite_id','ReadPerGene_corrected']]\n",
    "    # rename column\n",
    "    quant_df = quant_df.rename(columns={'ReadPerGene_corrected': file.split('.')[0]})\n",
    "    # merge with liqa_merged_df\n",
    "    liqa_merged_df = pd.merge(liqa_merged_df,quant_df,\n",
    "                              left_on='composite_id',right_on='composite_id',how='outer')"
   ]
  },
  {
   "cell_type": "code",
   "execution_count": 21,
   "id": "4c1307c6",
   "metadata": {},
   "outputs": [
    {
     "data": {
      "text/plain": [
       "(80371, 93)"
      ]
     },
     "execution_count": 21,
     "metadata": {},
     "output_type": "execute_result"
    }
   ],
   "source": [
    "liqa_merged_df.shape"
   ]
  },
  {
   "cell_type": "code",
   "execution_count": 22,
   "id": "5a841ada",
   "metadata": {},
   "outputs": [
    {
     "data": {
      "text/html": [
       "<div>\n",
       "<style scoped>\n",
       "    .dataframe tbody tr th:only-of-type {\n",
       "        vertical-align: middle;\n",
       "    }\n",
       "\n",
       "    .dataframe tbody tr th {\n",
       "        vertical-align: top;\n",
       "    }\n",
       "\n",
       "    .dataframe thead th {\n",
       "        text-align: right;\n",
       "    }\n",
       "</style>\n",
       "<table border=\"1\" class=\"dataframe\">\n",
       "  <thead>\n",
       "    <tr style=\"text-align: right;\">\n",
       "      <th></th>\n",
       "      <th>composite_id</th>\n",
       "      <th>GTEX-1192X-0011-R10a-SM-4RXXZ</th>\n",
       "      <th>GTEX-11H98-0011-R11b-SM-4SFLZ</th>\n",
       "      <th>GTEX-11TTK-0011-R7b-SM-4TVFS</th>\n",
       "      <th>GTEX-1211K-0826-SM-7LDFQ</th>\n",
       "      <th>GTEX-1313W-0011-R7b-SM-4ZL3U</th>\n",
       "      <th>GTEX-13QBU-0426-SM-5A4VT</th>\n",
       "      <th>GTEX-13QJ3-0726-SM-7LDHS</th>\n",
       "      <th>GTEX-13QJ3-0726-SM-7LDHS_rep</th>\n",
       "      <th>GTEX-13RTJ-0011-R7b-SM-5CTCB</th>\n",
       "      <th>...</th>\n",
       "      <th>GTEX-ZPU1-0826-SM-4UJSC</th>\n",
       "      <th>GTEX-ZT9X-0326-SM-4U9QG</th>\n",
       "      <th>GTEX-ZT9X-1826-SM-4V2KV</th>\n",
       "      <th>GTEX-ZT9X-1826-SM-4V2KV_rep</th>\n",
       "      <th>GTEX-ZT9X-1826-SM-4V2KV_rep2</th>\n",
       "      <th>GTEX-ZVZP-0226-SM-4VEIO</th>\n",
       "      <th>K562_ampure</th>\n",
       "      <th>K562_ampure_70ng</th>\n",
       "      <th>K562_extrawash</th>\n",
       "      <th>K562_extrawashwarm</th>\n",
       "    </tr>\n",
       "  </thead>\n",
       "  <tbody>\n",
       "    <tr>\n",
       "      <th>0</th>\n",
       "      <td>ENST00000479581.5_ENSG00000204540.10</td>\n",
       "      <td>3.675106e-16</td>\n",
       "      <td>1.125000</td>\n",
       "      <td>NaN</td>\n",
       "      <td>NaN</td>\n",
       "      <td>NaN</td>\n",
       "      <td>NaN</td>\n",
       "      <td>NaN</td>\n",
       "      <td>NaN</td>\n",
       "      <td>NaN</td>\n",
       "      <td>...</td>\n",
       "      <td>NaN</td>\n",
       "      <td>6.399547</td>\n",
       "      <td>NaN</td>\n",
       "      <td>NaN</td>\n",
       "      <td>NaN</td>\n",
       "      <td>NaN</td>\n",
       "      <td>NaN</td>\n",
       "      <td>NaN</td>\n",
       "      <td>NaN</td>\n",
       "      <td>NaN</td>\n",
       "    </tr>\n",
       "    <tr>\n",
       "      <th>1</th>\n",
       "      <td>130750ff-7bd5-42fc-9951-2ee00e4c4253_ENSG00000...</td>\n",
       "      <td>1.072175e-16</td>\n",
       "      <td>0.916406</td>\n",
       "      <td>NaN</td>\n",
       "      <td>NaN</td>\n",
       "      <td>NaN</td>\n",
       "      <td>NaN</td>\n",
       "      <td>NaN</td>\n",
       "      <td>NaN</td>\n",
       "      <td>NaN</td>\n",
       "      <td>...</td>\n",
       "      <td>NaN</td>\n",
       "      <td>0.000142</td>\n",
       "      <td>NaN</td>\n",
       "      <td>NaN</td>\n",
       "      <td>NaN</td>\n",
       "      <td>NaN</td>\n",
       "      <td>NaN</td>\n",
       "      <td>NaN</td>\n",
       "      <td>NaN</td>\n",
       "      <td>NaN</td>\n",
       "    </tr>\n",
       "    <tr>\n",
       "      <th>2</th>\n",
       "      <td>0d6ef114-5d3f-4df1-a18b-02c128c21368_ENSG00000...</td>\n",
       "      <td>1.093079e-03</td>\n",
       "      <td>0.003797</td>\n",
       "      <td>NaN</td>\n",
       "      <td>NaN</td>\n",
       "      <td>NaN</td>\n",
       "      <td>NaN</td>\n",
       "      <td>NaN</td>\n",
       "      <td>NaN</td>\n",
       "      <td>NaN</td>\n",
       "      <td>...</td>\n",
       "      <td>NaN</td>\n",
       "      <td>0.852157</td>\n",
       "      <td>NaN</td>\n",
       "      <td>NaN</td>\n",
       "      <td>NaN</td>\n",
       "      <td>NaN</td>\n",
       "      <td>NaN</td>\n",
       "      <td>NaN</td>\n",
       "      <td>NaN</td>\n",
       "      <td>NaN</td>\n",
       "    </tr>\n",
       "    <tr>\n",
       "      <th>3</th>\n",
       "      <td>e692f135-46a2-4cf8-953c-c0c636810214_ENSG00000...</td>\n",
       "      <td>1.560275e-16</td>\n",
       "      <td>1.333594</td>\n",
       "      <td>NaN</td>\n",
       "      <td>NaN</td>\n",
       "      <td>NaN</td>\n",
       "      <td>NaN</td>\n",
       "      <td>NaN</td>\n",
       "      <td>NaN</td>\n",
       "      <td>NaN</td>\n",
       "      <td>...</td>\n",
       "      <td>NaN</td>\n",
       "      <td>0.000206</td>\n",
       "      <td>NaN</td>\n",
       "      <td>NaN</td>\n",
       "      <td>NaN</td>\n",
       "      <td>NaN</td>\n",
       "      <td>NaN</td>\n",
       "      <td>NaN</td>\n",
       "      <td>NaN</td>\n",
       "      <td>NaN</td>\n",
       "    </tr>\n",
       "    <tr>\n",
       "      <th>4</th>\n",
       "      <td>73af7ae0-6dc4-4d06-8132-8e644cb837f4_ENSG00000...</td>\n",
       "      <td>3.998907e+00</td>\n",
       "      <td>5.621203</td>\n",
       "      <td>NaN</td>\n",
       "      <td>NaN</td>\n",
       "      <td>NaN</td>\n",
       "      <td>NaN</td>\n",
       "      <td>NaN</td>\n",
       "      <td>NaN</td>\n",
       "      <td>NaN</td>\n",
       "      <td>...</td>\n",
       "      <td>NaN</td>\n",
       "      <td>0.747948</td>\n",
       "      <td>NaN</td>\n",
       "      <td>NaN</td>\n",
       "      <td>NaN</td>\n",
       "      <td>NaN</td>\n",
       "      <td>NaN</td>\n",
       "      <td>NaN</td>\n",
       "      <td>NaN</td>\n",
       "      <td>NaN</td>\n",
       "    </tr>\n",
       "  </tbody>\n",
       "</table>\n",
       "<p>5 rows × 93 columns</p>\n",
       "</div>"
      ],
      "text/plain": [
       "                                        composite_id  \\\n",
       "0               ENST00000479581.5_ENSG00000204540.10   \n",
       "1  130750ff-7bd5-42fc-9951-2ee00e4c4253_ENSG00000...   \n",
       "2  0d6ef114-5d3f-4df1-a18b-02c128c21368_ENSG00000...   \n",
       "3  e692f135-46a2-4cf8-953c-c0c636810214_ENSG00000...   \n",
       "4  73af7ae0-6dc4-4d06-8132-8e644cb837f4_ENSG00000...   \n",
       "\n",
       "   GTEX-1192X-0011-R10a-SM-4RXXZ  GTEX-11H98-0011-R11b-SM-4SFLZ  \\\n",
       "0                   3.675106e-16                       1.125000   \n",
       "1                   1.072175e-16                       0.916406   \n",
       "2                   1.093079e-03                       0.003797   \n",
       "3                   1.560275e-16                       1.333594   \n",
       "4                   3.998907e+00                       5.621203   \n",
       "\n",
       "   GTEX-11TTK-0011-R7b-SM-4TVFS  GTEX-1211K-0826-SM-7LDFQ  \\\n",
       "0                           NaN                       NaN   \n",
       "1                           NaN                       NaN   \n",
       "2                           NaN                       NaN   \n",
       "3                           NaN                       NaN   \n",
       "4                           NaN                       NaN   \n",
       "\n",
       "   GTEX-1313W-0011-R7b-SM-4ZL3U  GTEX-13QBU-0426-SM-5A4VT  \\\n",
       "0                           NaN                       NaN   \n",
       "1                           NaN                       NaN   \n",
       "2                           NaN                       NaN   \n",
       "3                           NaN                       NaN   \n",
       "4                           NaN                       NaN   \n",
       "\n",
       "   GTEX-13QJ3-0726-SM-7LDHS  GTEX-13QJ3-0726-SM-7LDHS_rep  \\\n",
       "0                       NaN                           NaN   \n",
       "1                       NaN                           NaN   \n",
       "2                       NaN                           NaN   \n",
       "3                       NaN                           NaN   \n",
       "4                       NaN                           NaN   \n",
       "\n",
       "   GTEX-13RTJ-0011-R7b-SM-5CTCB  ...  GTEX-ZPU1-0826-SM-4UJSC  \\\n",
       "0                           NaN  ...                      NaN   \n",
       "1                           NaN  ...                      NaN   \n",
       "2                           NaN  ...                      NaN   \n",
       "3                           NaN  ...                      NaN   \n",
       "4                           NaN  ...                      NaN   \n",
       "\n",
       "   GTEX-ZT9X-0326-SM-4U9QG  GTEX-ZT9X-1826-SM-4V2KV  \\\n",
       "0                 6.399547                      NaN   \n",
       "1                 0.000142                      NaN   \n",
       "2                 0.852157                      NaN   \n",
       "3                 0.000206                      NaN   \n",
       "4                 0.747948                      NaN   \n",
       "\n",
       "   GTEX-ZT9X-1826-SM-4V2KV_rep  GTEX-ZT9X-1826-SM-4V2KV_rep2  \\\n",
       "0                          NaN                           NaN   \n",
       "1                          NaN                           NaN   \n",
       "2                          NaN                           NaN   \n",
       "3                          NaN                           NaN   \n",
       "4                          NaN                           NaN   \n",
       "\n",
       "   GTEX-ZVZP-0226-SM-4VEIO  K562_ampure  K562_ampure_70ng  K562_extrawash  \\\n",
       "0                      NaN          NaN               NaN             NaN   \n",
       "1                      NaN          NaN               NaN             NaN   \n",
       "2                      NaN          NaN               NaN             NaN   \n",
       "3                      NaN          NaN               NaN             NaN   \n",
       "4                      NaN          NaN               NaN             NaN   \n",
       "\n",
       "   K562_extrawashwarm  \n",
       "0                 NaN  \n",
       "1                 NaN  \n",
       "2                 NaN  \n",
       "3                 NaN  \n",
       "4                 NaN  \n",
       "\n",
       "[5 rows x 93 columns]"
      ]
     },
     "execution_count": 22,
     "metadata": {},
     "output_type": "execute_result"
    }
   ],
   "source": [
    "liqa_merged_df.head()"
   ]
  },
  {
   "cell_type": "markdown",
   "id": "01dce9c4",
   "metadata": {},
   "source": [
    "#### Export the Merged LIQA Quant Result Dataframe"
   ]
  },
  {
   "cell_type": "code",
   "execution_count": 36,
   "id": "49b423e4",
   "metadata": {},
   "outputs": [],
   "source": [
    "# change working directory\n",
    "os.chdir('C:\\\\Users\\\\15082\\\\OneDrive\\\\Desktop\\\\thesis_research')"
   ]
  },
  {
   "cell_type": "code",
   "execution_count": 37,
   "id": "65be6ade",
   "metadata": {},
   "outputs": [],
   "source": [
    "liqa_merged_df.to_csv('gtex_v9_data\\\\data_for_analysis\\\\my_liqa_data\\\\liqa_merged.csv', sep=',')"
   ]
  },
  {
   "cell_type": "markdown",
   "id": "b4a06c26",
   "metadata": {},
   "source": [
    "### Check Missing Data"
   ]
  },
  {
   "cell_type": "code",
   "execution_count": 23,
   "id": "129e9d4c",
   "metadata": {},
   "outputs": [
    {
     "data": {
      "text/html": [
       "<div>\n",
       "<style scoped>\n",
       "    .dataframe tbody tr th:only-of-type {\n",
       "        vertical-align: middle;\n",
       "    }\n",
       "\n",
       "    .dataframe tbody tr th {\n",
       "        vertical-align: top;\n",
       "    }\n",
       "\n",
       "    .dataframe thead th {\n",
       "        text-align: right;\n",
       "    }\n",
       "</style>\n",
       "<table border=\"1\" class=\"dataframe\">\n",
       "  <thead>\n",
       "    <tr style=\"text-align: right;\">\n",
       "      <th></th>\n",
       "      <th>composite_id</th>\n",
       "      <th>GTEX-1192X-0011-R10a-SM-4RXXZ</th>\n",
       "      <th>GTEX-11H98-0011-R11b-SM-4SFLZ</th>\n",
       "      <th>GTEX-11TTK-0011-R7b-SM-4TVFS</th>\n",
       "      <th>GTEX-1211K-0826-SM-7LDFQ</th>\n",
       "      <th>GTEX-1313W-0011-R7b-SM-4ZL3U</th>\n",
       "      <th>GTEX-13QBU-0426-SM-5A4VT</th>\n",
       "      <th>GTEX-13QJ3-0726-SM-7LDHS</th>\n",
       "      <th>GTEX-13QJ3-0726-SM-7LDHS_rep</th>\n",
       "      <th>GTEX-13RTJ-0011-R7b-SM-5CTCB</th>\n",
       "      <th>...</th>\n",
       "      <th>GTEX-ZPU1-0826-SM-4UJSC</th>\n",
       "      <th>GTEX-ZT9X-0326-SM-4U9QG</th>\n",
       "      <th>GTEX-ZT9X-1826-SM-4V2KV</th>\n",
       "      <th>GTEX-ZT9X-1826-SM-4V2KV_rep</th>\n",
       "      <th>GTEX-ZT9X-1826-SM-4V2KV_rep2</th>\n",
       "      <th>GTEX-ZVZP-0226-SM-4VEIO</th>\n",
       "      <th>K562_ampure</th>\n",
       "      <th>K562_ampure_70ng</th>\n",
       "      <th>K562_extrawash</th>\n",
       "      <th>K562_extrawashwarm</th>\n",
       "    </tr>\n",
       "  </thead>\n",
       "  <tbody>\n",
       "    <tr>\n",
       "      <th>71005</th>\n",
       "      <td>ENST00000368935.1_ENSG00000143363.15</td>\n",
       "      <td>NaN</td>\n",
       "      <td>NaN</td>\n",
       "      <td>NaN</td>\n",
       "      <td>NaN</td>\n",
       "      <td>NaN</td>\n",
       "      <td>NaN</td>\n",
       "      <td>NaN</td>\n",
       "      <td>NaN</td>\n",
       "      <td>NaN</td>\n",
       "      <td>...</td>\n",
       "      <td>0.000065</td>\n",
       "      <td>NaN</td>\n",
       "      <td>0.007266</td>\n",
       "      <td>0.00381</td>\n",
       "      <td>0.002107</td>\n",
       "      <td>NaN</td>\n",
       "      <td>1.123313e-08</td>\n",
       "      <td>7.378645e-10</td>\n",
       "      <td>NaN</td>\n",
       "      <td>NaN</td>\n",
       "    </tr>\n",
       "  </tbody>\n",
       "</table>\n",
       "<p>1 rows × 93 columns</p>\n",
       "</div>"
      ],
      "text/plain": [
       "                               composite_id  GTEX-1192X-0011-R10a-SM-4RXXZ  \\\n",
       "71005  ENST00000368935.1_ENSG00000143363.15                            NaN   \n",
       "\n",
       "       GTEX-11H98-0011-R11b-SM-4SFLZ  GTEX-11TTK-0011-R7b-SM-4TVFS  \\\n",
       "71005                            NaN                           NaN   \n",
       "\n",
       "       GTEX-1211K-0826-SM-7LDFQ  GTEX-1313W-0011-R7b-SM-4ZL3U  \\\n",
       "71005                       NaN                           NaN   \n",
       "\n",
       "       GTEX-13QBU-0426-SM-5A4VT  GTEX-13QJ3-0726-SM-7LDHS  \\\n",
       "71005                       NaN                       NaN   \n",
       "\n",
       "       GTEX-13QJ3-0726-SM-7LDHS_rep  GTEX-13RTJ-0011-R7b-SM-5CTCB  ...  \\\n",
       "71005                           NaN                           NaN  ...   \n",
       "\n",
       "       GTEX-ZPU1-0826-SM-4UJSC  GTEX-ZT9X-0326-SM-4U9QG  \\\n",
       "71005                 0.000065                      NaN   \n",
       "\n",
       "       GTEX-ZT9X-1826-SM-4V2KV  GTEX-ZT9X-1826-SM-4V2KV_rep  \\\n",
       "71005                 0.007266                      0.00381   \n",
       "\n",
       "       GTEX-ZT9X-1826-SM-4V2KV_rep2  GTEX-ZVZP-0226-SM-4VEIO   K562_ampure  \\\n",
       "71005                      0.002107                      NaN  1.123313e-08   \n",
       "\n",
       "       K562_ampure_70ng  K562_extrawash  K562_extrawashwarm  \n",
       "71005      7.378645e-10             NaN                 NaN  \n",
       "\n",
       "[1 rows x 93 columns]"
      ]
     },
     "execution_count": 23,
     "metadata": {},
     "output_type": "execute_result"
    }
   ],
   "source": [
    "liqa_merged_df[liqa_merged_df.composite_id=='ENST00000368935.1_ENSG00000143363.15']"
   ]
  },
  {
   "cell_type": "code",
   "execution_count": 24,
   "id": "438a244d",
   "metadata": {},
   "outputs": [
    {
     "data": {
      "text/html": [
       "<div>\n",
       "<style scoped>\n",
       "    .dataframe tbody tr th:only-of-type {\n",
       "        vertical-align: middle;\n",
       "    }\n",
       "\n",
       "    .dataframe tbody tr th {\n",
       "        vertical-align: top;\n",
       "    }\n",
       "\n",
       "    .dataframe thead th {\n",
       "        text-align: right;\n",
       "    }\n",
       "</style>\n",
       "<table border=\"1\" class=\"dataframe\">\n",
       "  <thead>\n",
       "    <tr style=\"text-align: right;\">\n",
       "      <th></th>\n",
       "      <th>composite_id</th>\n",
       "      <th>GTEX-1192X-0011-R10a-SM-4RXXZ</th>\n",
       "      <th>GTEX-11H98-0011-R11b-SM-4SFLZ</th>\n",
       "      <th>GTEX-11TTK-0011-R7b-SM-4TVFS</th>\n",
       "      <th>GTEX-1211K-0826-SM-7LDFQ</th>\n",
       "      <th>GTEX-1313W-0011-R7b-SM-4ZL3U</th>\n",
       "      <th>GTEX-13QBU-0426-SM-5A4VT</th>\n",
       "      <th>GTEX-13QJ3-0726-SM-7LDHS</th>\n",
       "      <th>GTEX-13QJ3-0726-SM-7LDHS_rep</th>\n",
       "      <th>GTEX-13RTJ-0011-R7b-SM-5CTCB</th>\n",
       "      <th>...</th>\n",
       "      <th>GTEX-ZPU1-0826-SM-4UJSC</th>\n",
       "      <th>GTEX-ZT9X-0326-SM-4U9QG</th>\n",
       "      <th>GTEX-ZT9X-1826-SM-4V2KV</th>\n",
       "      <th>GTEX-ZT9X-1826-SM-4V2KV_rep</th>\n",
       "      <th>GTEX-ZT9X-1826-SM-4V2KV_rep2</th>\n",
       "      <th>GTEX-ZVZP-0226-SM-4VEIO</th>\n",
       "      <th>K562_ampure</th>\n",
       "      <th>K562_ampure_70ng</th>\n",
       "      <th>K562_extrawash</th>\n",
       "      <th>K562_extrawashwarm</th>\n",
       "    </tr>\n",
       "  </thead>\n",
       "  <tbody>\n",
       "    <tr>\n",
       "      <th>80323</th>\n",
       "      <td>ENST00000262126.8_ENSG00000101745.16</td>\n",
       "      <td>NaN</td>\n",
       "      <td>NaN</td>\n",
       "      <td>NaN</td>\n",
       "      <td>NaN</td>\n",
       "      <td>NaN</td>\n",
       "      <td>NaN</td>\n",
       "      <td>NaN</td>\n",
       "      <td>NaN</td>\n",
       "      <td>NaN</td>\n",
       "      <td>...</td>\n",
       "      <td>NaN</td>\n",
       "      <td>NaN</td>\n",
       "      <td>NaN</td>\n",
       "      <td>NaN</td>\n",
       "      <td>NaN</td>\n",
       "      <td>NaN</td>\n",
       "      <td>NaN</td>\n",
       "      <td>NaN</td>\n",
       "      <td>NaN</td>\n",
       "      <td>13.929571</td>\n",
       "    </tr>\n",
       "  </tbody>\n",
       "</table>\n",
       "<p>1 rows × 93 columns</p>\n",
       "</div>"
      ],
      "text/plain": [
       "                               composite_id  GTEX-1192X-0011-R10a-SM-4RXXZ  \\\n",
       "80323  ENST00000262126.8_ENSG00000101745.16                            NaN   \n",
       "\n",
       "       GTEX-11H98-0011-R11b-SM-4SFLZ  GTEX-11TTK-0011-R7b-SM-4TVFS  \\\n",
       "80323                            NaN                           NaN   \n",
       "\n",
       "       GTEX-1211K-0826-SM-7LDFQ  GTEX-1313W-0011-R7b-SM-4ZL3U  \\\n",
       "80323                       NaN                           NaN   \n",
       "\n",
       "       GTEX-13QBU-0426-SM-5A4VT  GTEX-13QJ3-0726-SM-7LDHS  \\\n",
       "80323                       NaN                       NaN   \n",
       "\n",
       "       GTEX-13QJ3-0726-SM-7LDHS_rep  GTEX-13RTJ-0011-R7b-SM-5CTCB  ...  \\\n",
       "80323                           NaN                           NaN  ...   \n",
       "\n",
       "       GTEX-ZPU1-0826-SM-4UJSC  GTEX-ZT9X-0326-SM-4U9QG  \\\n",
       "80323                      NaN                      NaN   \n",
       "\n",
       "       GTEX-ZT9X-1826-SM-4V2KV  GTEX-ZT9X-1826-SM-4V2KV_rep  \\\n",
       "80323                      NaN                          NaN   \n",
       "\n",
       "       GTEX-ZT9X-1826-SM-4V2KV_rep2  GTEX-ZVZP-0226-SM-4VEIO  K562_ampure  \\\n",
       "80323                           NaN                      NaN          NaN   \n",
       "\n",
       "       K562_ampure_70ng  K562_extrawash  K562_extrawashwarm  \n",
       "80323               NaN             NaN           13.929571  \n",
       "\n",
       "[1 rows x 93 columns]"
      ]
     },
     "execution_count": 24,
     "metadata": {},
     "output_type": "execute_result"
    }
   ],
   "source": [
    "liqa_merged_df[liqa_merged_df.composite_id=='ENST00000262126.8_ENSG00000101745.16']"
   ]
  },
  {
   "cell_type": "code",
   "execution_count": 25,
   "id": "8c0b3269",
   "metadata": {},
   "outputs": [],
   "source": [
    "# Count the number of rows with missing values\n",
    "num_rows_with_missing_values = liqa_merged_df.isnull().any(axis=1).sum()"
   ]
  },
  {
   "cell_type": "code",
   "execution_count": 26,
   "id": "0942cf35",
   "metadata": {},
   "outputs": [
    {
     "name": "stdout",
     "output_type": "stream",
     "text": [
      "77273\n"
     ]
    }
   ],
   "source": [
    "print(num_rows_with_missing_values)"
   ]
  },
  {
   "cell_type": "code",
   "execution_count": 27,
   "id": "8a288468",
   "metadata": {},
   "outputs": [],
   "source": [
    "check_missing_data_df = liqa_merged_df[['composite_id','GTEX-1192X-0011-R10a-SM-4RXXZ']]"
   ]
  },
  {
   "cell_type": "code",
   "execution_count": 28,
   "id": "de7ee3ed",
   "metadata": {},
   "outputs": [],
   "source": [
    "sample1_missing_data_df = check_missing_data_df[check_missing_data_df['GTEX-1192X-0011-R10a-SM-4RXXZ'].isna()]"
   ]
  },
  {
   "cell_type": "code",
   "execution_count": 29,
   "id": "645b373a",
   "metadata": {},
   "outputs": [
    {
     "data": {
      "text/html": [
       "<div>\n",
       "<style scoped>\n",
       "    .dataframe tbody tr th:only-of-type {\n",
       "        vertical-align: middle;\n",
       "    }\n",
       "\n",
       "    .dataframe tbody tr th {\n",
       "        vertical-align: top;\n",
       "    }\n",
       "\n",
       "    .dataframe thead th {\n",
       "        text-align: right;\n",
       "    }\n",
       "</style>\n",
       "<table border=\"1\" class=\"dataframe\">\n",
       "  <thead>\n",
       "    <tr style=\"text-align: right;\">\n",
       "      <th></th>\n",
       "      <th>composite_id</th>\n",
       "      <th>GTEX-1192X-0011-R10a-SM-4RXXZ</th>\n",
       "    </tr>\n",
       "  </thead>\n",
       "  <tbody>\n",
       "    <tr>\n",
       "      <th>49189</th>\n",
       "      <td>da83408b-dbbc-4b03-bd08-ae483c2fe37d_ENSG00000...</td>\n",
       "      <td>NaN</td>\n",
       "    </tr>\n",
       "    <tr>\n",
       "      <th>49190</th>\n",
       "      <td>c06d3500-df49-49de-b19a-239cd9eea69c_ENSG00000...</td>\n",
       "      <td>NaN</td>\n",
       "    </tr>\n",
       "    <tr>\n",
       "      <th>49191</th>\n",
       "      <td>9e3aae26-4af9-4ad8-9d4d-8f809ef549fb_ENSG00000...</td>\n",
       "      <td>NaN</td>\n",
       "    </tr>\n",
       "    <tr>\n",
       "      <th>49192</th>\n",
       "      <td>5cb21c98-daa8-4f43-843f-0cd997de6975_ENSG00000...</td>\n",
       "      <td>NaN</td>\n",
       "    </tr>\n",
       "    <tr>\n",
       "      <th>49193</th>\n",
       "      <td>182479da-8511-4244-9a19-1270a183a241_ENSG00000...</td>\n",
       "      <td>NaN</td>\n",
       "    </tr>\n",
       "    <tr>\n",
       "      <th>...</th>\n",
       "      <td>...</td>\n",
       "      <td>...</td>\n",
       "    </tr>\n",
       "    <tr>\n",
       "      <th>80366</th>\n",
       "      <td>74a320c6-b08c-48ab-b21f-fee3ad71669f_ENSG00000...</td>\n",
       "      <td>NaN</td>\n",
       "    </tr>\n",
       "    <tr>\n",
       "      <th>80367</th>\n",
       "      <td>dc0b68a1-95fe-4962-8993-51bf0f30da17_ENSG00000...</td>\n",
       "      <td>NaN</td>\n",
       "    </tr>\n",
       "    <tr>\n",
       "      <th>80368</th>\n",
       "      <td>e878980f-9ef6-4ad5-b3f8-47dbb38fd9de_ENSG00000...</td>\n",
       "      <td>NaN</td>\n",
       "    </tr>\n",
       "    <tr>\n",
       "      <th>80369</th>\n",
       "      <td>ENST00000304992.10_ENSG00000174231.16</td>\n",
       "      <td>NaN</td>\n",
       "    </tr>\n",
       "    <tr>\n",
       "      <th>80370</th>\n",
       "      <td>5d80bee1-439b-42d6-bc8f-f9dd2d7d6b9c_ENSG00000...</td>\n",
       "      <td>NaN</td>\n",
       "    </tr>\n",
       "  </tbody>\n",
       "</table>\n",
       "<p>31182 rows × 2 columns</p>\n",
       "</div>"
      ],
      "text/plain": [
       "                                            composite_id  \\\n",
       "49189  da83408b-dbbc-4b03-bd08-ae483c2fe37d_ENSG00000...   \n",
       "49190  c06d3500-df49-49de-b19a-239cd9eea69c_ENSG00000...   \n",
       "49191  9e3aae26-4af9-4ad8-9d4d-8f809ef549fb_ENSG00000...   \n",
       "49192  5cb21c98-daa8-4f43-843f-0cd997de6975_ENSG00000...   \n",
       "49193  182479da-8511-4244-9a19-1270a183a241_ENSG00000...   \n",
       "...                                                  ...   \n",
       "80366  74a320c6-b08c-48ab-b21f-fee3ad71669f_ENSG00000...   \n",
       "80367  dc0b68a1-95fe-4962-8993-51bf0f30da17_ENSG00000...   \n",
       "80368  e878980f-9ef6-4ad5-b3f8-47dbb38fd9de_ENSG00000...   \n",
       "80369              ENST00000304992.10_ENSG00000174231.16   \n",
       "80370  5d80bee1-439b-42d6-bc8f-f9dd2d7d6b9c_ENSG00000...   \n",
       "\n",
       "       GTEX-1192X-0011-R10a-SM-4RXXZ  \n",
       "49189                            NaN  \n",
       "49190                            NaN  \n",
       "49191                            NaN  \n",
       "49192                            NaN  \n",
       "49193                            NaN  \n",
       "...                              ...  \n",
       "80366                            NaN  \n",
       "80367                            NaN  \n",
       "80368                            NaN  \n",
       "80369                            NaN  \n",
       "80370                            NaN  \n",
       "\n",
       "[31182 rows x 2 columns]"
      ]
     },
     "execution_count": 29,
     "metadata": {},
     "output_type": "execute_result"
    }
   ],
   "source": [
    "sample1_missing_data_df"
   ]
  },
  {
   "cell_type": "code",
   "execution_count": 30,
   "id": "d446778f",
   "metadata": {},
   "outputs": [],
   "source": [
    "sample1_missing_id = sample1_missing_data_df['composite_id']"
   ]
  },
  {
   "cell_type": "code",
   "execution_count": 31,
   "id": "d7dd9e05",
   "metadata": {},
   "outputs": [
    {
     "data": {
      "text/plain": [
       "49189    da83408b-dbbc-4b03-bd08-ae483c2fe37d_ENSG00000...\n",
       "49190    c06d3500-df49-49de-b19a-239cd9eea69c_ENSG00000...\n",
       "49191    9e3aae26-4af9-4ad8-9d4d-8f809ef549fb_ENSG00000...\n",
       "49192    5cb21c98-daa8-4f43-843f-0cd997de6975_ENSG00000...\n",
       "49193    182479da-8511-4244-9a19-1270a183a241_ENSG00000...\n",
       "                               ...                        \n",
       "80366    74a320c6-b08c-48ab-b21f-fee3ad71669f_ENSG00000...\n",
       "80367    dc0b68a1-95fe-4962-8993-51bf0f30da17_ENSG00000...\n",
       "80368    e878980f-9ef6-4ad5-b3f8-47dbb38fd9de_ENSG00000...\n",
       "80369                ENST00000304992.10_ENSG00000174231.16\n",
       "80370    5d80bee1-439b-42d6-bc8f-f9dd2d7d6b9c_ENSG00000...\n",
       "Name: composite_id, Length: 31182, dtype: object"
      ]
     },
     "execution_count": 31,
     "metadata": {},
     "output_type": "execute_result"
    }
   ],
   "source": [
    "sample1_missing_id"
   ]
  },
  {
   "cell_type": "code",
   "execution_count": 32,
   "id": "ae04a874",
   "metadata": {},
   "outputs": [],
   "source": [
    "sample1_missing_gene_id = sample1_missing_data_df.composite_id.apply(lambda x: x.split('_').pop()).drop_duplicates()"
   ]
  },
  {
   "cell_type": "code",
   "execution_count": 33,
   "id": "b77626b1",
   "metadata": {},
   "outputs": [
    {
     "data": {
      "text/plain": [
       "3961"
      ]
     },
     "execution_count": 33,
     "metadata": {},
     "output_type": "execute_result"
    }
   ],
   "source": [
    "len(sample1_missing_gene_id)"
   ]
  },
  {
   "cell_type": "code",
   "execution_count": 34,
   "id": "f832d556",
   "metadata": {},
   "outputs": [
    {
     "data": {
      "text/plain": [
       "49189    ENSG00000115216.13\n",
       "49207     ENSG00000152454.3\n",
       "49209    ENSG00000196204.11\n",
       "49211    ENSG00000135624.15\n",
       "49238    ENSG00000099840.13\n",
       "                ...        \n",
       "80314    ENSG00000101745.16\n",
       "80324    ENSG00000185627.17\n",
       "80342     ENSG00000167985.6\n",
       "80345    ENSG00000163938.16\n",
       "80365    ENSG00000174231.16\n",
       "Name: composite_id, Length: 3961, dtype: object"
      ]
     },
     "execution_count": 34,
     "metadata": {},
     "output_type": "execute_result"
    }
   ],
   "source": [
    "sample1_missing_gene_id"
   ]
  },
  {
   "cell_type": "code",
   "execution_count": 34,
   "id": "352fe8c4",
   "metadata": {},
   "outputs": [],
   "source": [
    "#sample1_missing_gene_id.to_csv('sample1_missing_gene_id.csv', index=False) "
   ]
  }
 ],
 "metadata": {
  "kernelspec": {
   "display_name": "Python 3",
   "language": "python",
   "name": "python3"
  },
  "language_info": {
   "codemirror_mode": {
    "name": "ipython",
    "version": 3
   },
   "file_extension": ".py",
   "mimetype": "text/x-python",
   "name": "python",
   "nbconvert_exporter": "python",
   "pygments_lexer": "ipython3",
   "version": "3.8.8"
  }
 },
 "nbformat": 4,
 "nbformat_minor": 5
}
