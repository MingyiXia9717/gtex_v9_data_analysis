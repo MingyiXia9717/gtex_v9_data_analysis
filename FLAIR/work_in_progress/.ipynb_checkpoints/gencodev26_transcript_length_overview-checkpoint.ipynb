{
 "cells": [
  {
   "cell_type": "markdown",
   "id": "117a0616-0946-491b-87a1-e6c167f9c598",
   "metadata": {},
   "source": [
    "# GTEx Isoform Transcript Length Overview 2"
   ]
  },
  {
   "cell_type": "markdown",
   "id": "f6bcc603-84e5-4521-a2b6-325b36d6f37d",
   "metadata": {},
   "source": [
    "Used GTFtools to calculate transript length. \n",
    "\n",
    "**GTF annotation file:** GTF isoform output from FLAIR collapse (used GENCODE v26 as the reference annotation file)."
   ]
  },
  {
   "cell_type": "markdown",
   "id": "add1a146-b4de-49dd-8585-9e32b3fc8d88",
   "metadata": {},
   "source": [
    "## Part 1: Import Data and Configure Python Libraries"
   ]
  },
  {
   "cell_type": "code",
   "execution_count": 1,
   "id": "5d0efbfd-6d05-4f98-b059-23b750d406af",
   "metadata": {},
   "outputs": [],
   "source": [
    "import os\n",
    "import numpy as np\n",
    "import pandas as pd\n",
    "import matplotlib.pyplot as plt\n",
    "import matplotlib.gridspec\n",
    "%matplotlib inline\n",
    "import seaborn as sns\n",
    "import re\n",
    "from IPython.display import display\n",
    "from matplotlib.pyplot import gcf\n",
    "from sklearn.decomposition import PCA \n",
    "from sklearn.preprocessing import StandardScaler\n",
    "from PIL import ImageColor\n",
    "from matplotlib.patches import Patch #for custom legend making\n",
    "import scipy.spatial as sp, scipy.cluster.hierarchy as hc #for faster computing of hierarchial clusters"
   ]
  },
  {
   "cell_type": "code",
   "execution_count": 2,
   "id": "966bcbe2-a9f8-4b50-80ef-6f37825d37d7",
   "metadata": {},
   "outputs": [],
   "source": [
    "import warnings\n",
    "warnings.filterwarnings('ignore')"
   ]
  },
  {
   "cell_type": "markdown",
   "id": "c5057dbf-5776-449e-8f04-7bfc3286e328",
   "metadata": {},
   "source": [
    "### Import Data"
   ]
  },
  {
   "cell_type": "code",
   "execution_count": 3,
   "id": "0986e16f-2c93-481b-854b-0784f2d055d2",
   "metadata": {},
   "outputs": [
    {
     "data": {
      "text/plain": [
       "'C:\\\\Users\\\\15082\\\\OneDrive\\\\Desktop\\\\thesis_research\\\\gtex_v9_data_analysis\\\\FLAIR\\\\work_in_progress'"
      ]
     },
     "execution_count": 3,
     "metadata": {},
     "output_type": "execute_result"
    }
   ],
   "source": [
    "os.getcwd()"
   ]
  },
  {
   "cell_type": "code",
   "execution_count": 4,
   "id": "21a8d8e8-9e4e-4bbb-9aae-ed51660e667e",
   "metadata": {},
   "outputs": [],
   "source": [
    "# change working directory\n",
    "os.chdir('C:\\\\Users\\\\15082\\\\OneDrive\\\\Desktop\\\\thesis_research')"
   ]
  },
  {
   "cell_type": "code",
   "execution_count": 5,
   "id": "bd7c1fb7-a601-427b-9af3-627a58b041c2",
   "metadata": {},
   "outputs": [],
   "source": [
    "data_dir = 'gtex_v9_data\\\\data_for_analysis\\\\my_flair_data'"
   ]
  },
  {
   "cell_type": "code",
   "execution_count": 6,
   "id": "2b6c3802-ca6e-40e0-b205-eb8ca0009740",
   "metadata": {},
   "outputs": [],
   "source": [
    "transcript_length_file_path = os.path.join(data_dir, 'gencode26_transcript_isoform_length.txt')"
   ]
  },
  {
   "cell_type": "code",
   "execution_count": 7,
   "id": "c103b441-ed03-459b-b090-6607f13d40de",
   "metadata": {},
   "outputs": [],
   "source": [
    "transcript_length_df = pd.read_csv(transcript_length_file_path, sep='\\t')"
   ]
  },
  {
   "cell_type": "markdown",
   "id": "d2783e40-cc25-49ba-9ecd-09505ae6f682",
   "metadata": {},
   "source": [
    "## Part 2: Overview of Dataset"
   ]
  },
  {
   "cell_type": "code",
   "execution_count": 8,
   "id": "e0df4730-e949-46ea-8c12-0433ba9a107f",
   "metadata": {},
   "outputs": [
    {
     "data": {
      "text/html": [
       "<div>\n",
       "<style scoped>\n",
       "    .dataframe tbody tr th:only-of-type {\n",
       "        vertical-align: middle;\n",
       "    }\n",
       "\n",
       "    .dataframe tbody tr th {\n",
       "        vertical-align: top;\n",
       "    }\n",
       "\n",
       "    .dataframe thead th {\n",
       "        text-align: right;\n",
       "    }\n",
       "</style>\n",
       "<table border=\"1\" class=\"dataframe\">\n",
       "  <thead>\n",
       "    <tr style=\"text-align: right;\">\n",
       "      <th></th>\n",
       "      <th>isoform</th>\n",
       "      <th>gene</th>\n",
       "      <th>length</th>\n",
       "    </tr>\n",
       "  </thead>\n",
       "  <tbody>\n",
       "    <tr>\n",
       "      <th>0</th>\n",
       "      <td>123d6ced-595a-4042-a667-96ae3ece5471</td>\n",
       "      <td>chr1:11000</td>\n",
       "      <td>2541</td>\n",
       "    </tr>\n",
       "    <tr>\n",
       "      <th>1</th>\n",
       "      <td>f5c7cd72-9d6a-44f2-b6a1-f13cc24f6c2a</td>\n",
       "      <td>chr1:14000</td>\n",
       "      <td>1770</td>\n",
       "    </tr>\n",
       "    <tr>\n",
       "      <th>2</th>\n",
       "      <td>6033210c-c373-46ef-acb8-f1e1cbdc2c3e</td>\n",
       "      <td>chr1:14000</td>\n",
       "      <td>1989</td>\n",
       "    </tr>\n",
       "    <tr>\n",
       "      <th>3</th>\n",
       "      <td>3102b78e-4e80-4feb-9750-69652ad53508</td>\n",
       "      <td>chr1:16000</td>\n",
       "      <td>1972</td>\n",
       "    </tr>\n",
       "    <tr>\n",
       "      <th>4</th>\n",
       "      <td>6db3d3e0-7af0-431d-b712-23fd3e09807a</td>\n",
       "      <td>chr1:17000</td>\n",
       "      <td>1882</td>\n",
       "    </tr>\n",
       "  </tbody>\n",
       "</table>\n",
       "</div>"
      ],
      "text/plain": [
       "                                isoform        gene  length\n",
       "0  123d6ced-595a-4042-a667-96ae3ece5471  chr1:11000    2541\n",
       "1  f5c7cd72-9d6a-44f2-b6a1-f13cc24f6c2a  chr1:14000    1770\n",
       "2  6033210c-c373-46ef-acb8-f1e1cbdc2c3e  chr1:14000    1989\n",
       "3  3102b78e-4e80-4feb-9750-69652ad53508  chr1:16000    1972\n",
       "4  6db3d3e0-7af0-431d-b712-23fd3e09807a  chr1:17000    1882"
      ]
     },
     "execution_count": 8,
     "metadata": {},
     "output_type": "execute_result"
    }
   ],
   "source": [
    "transcript_length_df.head(5)"
   ]
  },
  {
   "cell_type": "code",
   "execution_count": 9,
   "id": "6d79def9-3de2-4981-9ff2-9e2e296d7b40",
   "metadata": {},
   "outputs": [
    {
     "data": {
      "text/plain": [
       "(1331388, 3)"
      ]
     },
     "execution_count": 9,
     "metadata": {},
     "output_type": "execute_result"
    }
   ],
   "source": [
    "transcript_length_df.shape"
   ]
  },
  {
   "cell_type": "code",
   "execution_count": 10,
   "id": "c8490657-61eb-4b76-8772-b1bdd24dc6ac",
   "metadata": {},
   "outputs": [
    {
     "data": {
      "image/png": "[encoded data removed]",
      "text/plain": [
       "<Figure size 720x576 with 1 Axes>"
      ]
     },
     "metadata": {
      "needs_background": "light"
     },
     "output_type": "display_data"
    }
   ],
   "source": [
    "plt.figure(figsize=(10, 8))\n",
    "sns.histplot(data=transcript_length_df, x=\"length\")\n",
    "plt.show()"
   ]
  },
  {
   "cell_type": "code",
   "execution_count": 11,
   "id": "5f65439f-6521-49ad-9b7b-23eed5ec1640",
   "metadata": {},
   "outputs": [
    {
     "data": {
      "text/plain": [
       "0          123d6ced-595a-4042-a667-96ae3ece5471\n",
       "1          f5c7cd72-9d6a-44f2-b6a1-f13cc24f6c2a\n",
       "2          6033210c-c373-46ef-acb8-f1e1cbdc2c3e\n",
       "3          3102b78e-4e80-4feb-9750-69652ad53508\n",
       "4          6db3d3e0-7af0-431d-b712-23fd3e09807a\n",
       "                           ...                 \n",
       "1331383    0ee37bb8-bb10-4273-82a5-8d8c7e014415\n",
       "1331384    c8929e5c-9817-4fb3-966c-10a82aa28a4d\n",
       "1331385    b6b61938-5b2c-478b-abd8-3a112f963dba\n",
       "1331386    ff19ce5d-e284-4e5c-bd7d-52eb08ee57aa\n",
       "1331387    cb2ece21-38ed-481d-bfcc-05ab52f3a593\n",
       "Name: isoform, Length: 1331388, dtype: object"
      ]
     },
     "execution_count": 11,
     "metadata": {},
     "output_type": "execute_result"
    }
   ],
   "source": [
    "transcript_length_df['isoform']"
   ]
  },
  {
   "cell_type": "code",
   "execution_count": 12,
   "id": "e1421346-5134-451d-9a64-9deda61b96f3",
   "metadata": {},
   "outputs": [
    {
     "data": {
      "text/html": [
       "<div>\n",
       "<style scoped>\n",
       "    .dataframe tbody tr th:only-of-type {\n",
       "        vertical-align: middle;\n",
       "    }\n",
       "\n",
       "    .dataframe tbody tr th {\n",
       "        vertical-align: top;\n",
       "    }\n",
       "\n",
       "    .dataframe thead th {\n",
       "        text-align: right;\n",
       "    }\n",
       "</style>\n",
       "<table border=\"1\" class=\"dataframe\">\n",
       "  <thead>\n",
       "    <tr style=\"text-align: right;\">\n",
       "      <th></th>\n",
       "      <th>isoform</th>\n",
       "      <th>gene</th>\n",
       "      <th>length</th>\n",
       "    </tr>\n",
       "  </thead>\n",
       "  <tbody>\n",
       "    <tr>\n",
       "      <th>0</th>\n",
       "      <td>123d6ced-595a-4042-a667-96ae3ece5471</td>\n",
       "      <td>chr1:11000</td>\n",
       "      <td>2541</td>\n",
       "    </tr>\n",
       "    <tr>\n",
       "      <th>1</th>\n",
       "      <td>f5c7cd72-9d6a-44f2-b6a1-f13cc24f6c2a</td>\n",
       "      <td>chr1:14000</td>\n",
       "      <td>1770</td>\n",
       "    </tr>\n",
       "    <tr>\n",
       "      <th>2</th>\n",
       "      <td>6033210c-c373-46ef-acb8-f1e1cbdc2c3e</td>\n",
       "      <td>chr1:14000</td>\n",
       "      <td>1989</td>\n",
       "    </tr>\n",
       "    <tr>\n",
       "      <th>3</th>\n",
       "      <td>3102b78e-4e80-4feb-9750-69652ad53508</td>\n",
       "      <td>chr1:16000</td>\n",
       "      <td>1972</td>\n",
       "    </tr>\n",
       "    <tr>\n",
       "      <th>4</th>\n",
       "      <td>6db3d3e0-7af0-431d-b712-23fd3e09807a</td>\n",
       "      <td>chr1:17000</td>\n",
       "      <td>1882</td>\n",
       "    </tr>\n",
       "  </tbody>\n",
       "</table>\n",
       "</div>"
      ],
      "text/plain": [
       "                                isoform        gene  length\n",
       "0  123d6ced-595a-4042-a667-96ae3ece5471  chr1:11000    2541\n",
       "1  f5c7cd72-9d6a-44f2-b6a1-f13cc24f6c2a  chr1:14000    1770\n",
       "2  6033210c-c373-46ef-acb8-f1e1cbdc2c3e  chr1:14000    1989\n",
       "3  3102b78e-4e80-4feb-9750-69652ad53508  chr1:16000    1972\n",
       "4  6db3d3e0-7af0-431d-b712-23fd3e09807a  chr1:17000    1882"
      ]
     },
     "execution_count": 12,
     "metadata": {},
     "output_type": "execute_result"
    }
   ],
   "source": [
    "transcript_length_df.head()"
   ]
  },
  {
   "cell_type": "code",
   "execution_count": 13,
   "id": "5045bf78-f93b-4215-89c2-0795f3d982b1",
   "metadata": {},
   "outputs": [
    {
     "data": {
      "text/plain": [
       "0                  chr1:11000\n",
       "1                  chr1:14000\n",
       "2                  chr1:14000\n",
       "3                  chr1:16000\n",
       "4                  chr1:17000\n",
       "                  ...        \n",
       "1331383    ENSG00000012817.15\n",
       "1331384    ENSG00000012817.15\n",
       "1331385    ENSG00000114374.12\n",
       "1331386     ENSG00000176728.7\n",
       "1331387    ENSG00000012817.15\n",
       "Name: gene, Length: 1331388, dtype: object"
      ]
     },
     "execution_count": 13,
     "metadata": {},
     "output_type": "execute_result"
    }
   ],
   "source": [
    "transcript_length_df.gene"
   ]
  },
  {
   "cell_type": "code",
   "execution_count": 14,
   "id": "8c3ca57b-456d-4404-85b4-4f7a9c324e20",
   "metadata": {},
   "outputs": [],
   "source": [
    "transcript_length_df['composite_id'] = transcript_length_df.apply(lambda x:'%s_%s' % (x['isoform'],x['gene']),axis=1)"
   ]
  },
  {
   "cell_type": "code",
   "execution_count": 15,
   "id": "30173b4d-d3e2-4de5-9468-b18b53e3ebe4",
   "metadata": {},
   "outputs": [
    {
     "data": {
      "text/html": [
       "<div>\n",
       "<style scoped>\n",
       "    .dataframe tbody tr th:only-of-type {\n",
       "        vertical-align: middle;\n",
       "    }\n",
       "\n",
       "    .dataframe tbody tr th {\n",
       "        vertical-align: top;\n",
       "    }\n",
       "\n",
       "    .dataframe thead th {\n",
       "        text-align: right;\n",
       "    }\n",
       "</style>\n",
       "<table border=\"1\" class=\"dataframe\">\n",
       "  <thead>\n",
       "    <tr style=\"text-align: right;\">\n",
       "      <th></th>\n",
       "      <th>isoform</th>\n",
       "      <th>gene</th>\n",
       "      <th>length</th>\n",
       "      <th>composite_id</th>\n",
       "    </tr>\n",
       "  </thead>\n",
       "  <tbody>\n",
       "    <tr>\n",
       "      <th>0</th>\n",
       "      <td>123d6ced-595a-4042-a667-96ae3ece5471</td>\n",
       "      <td>chr1:11000</td>\n",
       "      <td>2541</td>\n",
       "      <td>123d6ced-595a-4042-a667-96ae3ece5471_chr1:11000</td>\n",
       "    </tr>\n",
       "    <tr>\n",
       "      <th>1</th>\n",
       "      <td>f5c7cd72-9d6a-44f2-b6a1-f13cc24f6c2a</td>\n",
       "      <td>chr1:14000</td>\n",
       "      <td>1770</td>\n",
       "      <td>f5c7cd72-9d6a-44f2-b6a1-f13cc24f6c2a_chr1:14000</td>\n",
       "    </tr>\n",
       "    <tr>\n",
       "      <th>2</th>\n",
       "      <td>6033210c-c373-46ef-acb8-f1e1cbdc2c3e</td>\n",
       "      <td>chr1:14000</td>\n",
       "      <td>1989</td>\n",
       "      <td>6033210c-c373-46ef-acb8-f1e1cbdc2c3e_chr1:14000</td>\n",
       "    </tr>\n",
       "  </tbody>\n",
       "</table>\n",
       "</div>"
      ],
      "text/plain": [
       "                                isoform        gene  length  \\\n",
       "0  123d6ced-595a-4042-a667-96ae3ece5471  chr1:11000    2541   \n",
       "1  f5c7cd72-9d6a-44f2-b6a1-f13cc24f6c2a  chr1:14000    1770   \n",
       "2  6033210c-c373-46ef-acb8-f1e1cbdc2c3e  chr1:14000    1989   \n",
       "\n",
       "                                      composite_id  \n",
       "0  123d6ced-595a-4042-a667-96ae3ece5471_chr1:11000  \n",
       "1  f5c7cd72-9d6a-44f2-b6a1-f13cc24f6c2a_chr1:14000  \n",
       "2  6033210c-c373-46ef-acb8-f1e1cbdc2c3e_chr1:14000  "
      ]
     },
     "execution_count": 15,
     "metadata": {},
     "output_type": "execute_result"
    }
   ],
   "source": [
    "transcript_length_df.head(3)"
   ]
  },
  {
   "cell_type": "code",
   "execution_count": 17,
   "id": "5a2cd7bc-67d4-41d8-a517-c9763c726b05",
   "metadata": {},
   "outputs": [
    {
     "data": {
      "text/plain": [
       "(1331388, 4)"
      ]
     },
     "execution_count": 17,
     "metadata": {},
     "output_type": "execute_result"
    }
   ],
   "source": [
    "transcript_length_df.shape"
   ]
  },
  {
   "cell_type": "markdown",
   "id": "798408a8-b922-42df-8a18-7ad1a271074c",
   "metadata": {},
   "source": [
    "### Export the dataframe"
   ]
  },
  {
   "cell_type": "code",
   "execution_count": 18,
   "id": "e2a6d7f9-f555-48cd-9f5e-4456d2ad497d",
   "metadata": {},
   "outputs": [],
   "source": [
    "#transcript_length_df.to_csv('gtex_v9_data\\\\data_for_analysis\\\\my_flair_data\\\\gencode26_transcript_length_df.csv', sep=',')"
   ]
  }
 ],
 "metadata": {
  "kernelspec": {
   "display_name": "Python 3",
   "language": "python",
   "name": "python3"
  },
  "language_info": {
   "codemirror_mode": {
    "name": "ipython",
    "version": 3
   },
   "file_extension": ".py",
   "mimetype": "text/x-python",
   "name": "python",
   "nbconvert_exporter": "python",
   "pygments_lexer": "ipython3",
   "version": "3.8.8"
  }
 },
 "nbformat": 4,
 "nbformat_minor": 5
}
