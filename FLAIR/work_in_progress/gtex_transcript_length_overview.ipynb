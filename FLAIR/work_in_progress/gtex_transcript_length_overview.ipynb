{
 "cells": [
  {
   "cell_type": "markdown",
   "id": "117a0616-0946-491b-87a1-e6c167f9c598",
   "metadata": {},
   "source": [
    "# GTEx Isoform Transcript Length Overview"
   ]
  },
  {
   "cell_type": "markdown",
   "id": "add1a146-b4de-49dd-8585-9e32b3fc8d88",
   "metadata": {},
   "source": [
    "## Part 1: Import Data and Configure Python Libraries"
   ]
  },
  {
   "cell_type": "code",
   "execution_count": 1,
   "id": "5d0efbfd-6d05-4f98-b059-23b750d406af",
   "metadata": {},
   "outputs": [],
   "source": [
    "import os\n",
    "import numpy as np\n",
    "import pandas as pd\n",
    "import matplotlib.pyplot as plt\n",
    "import matplotlib.gridspec\n",
    "%matplotlib inline\n",
    "import seaborn as sns\n",
    "import re\n",
    "from IPython.display import display\n",
    "from matplotlib.pyplot import gcf\n",
    "from sklearn.decomposition import PCA \n",
    "from sklearn.preprocessing import StandardScaler\n",
    "from PIL import ImageColor\n",
    "from matplotlib.patches import Patch #for custom legend making\n",
    "import scipy.spatial as sp, scipy.cluster.hierarchy as hc #for faster computing of hierarchial clusters"
   ]
  },
  {
   "cell_type": "code",
   "execution_count": 2,
   "id": "966bcbe2-a9f8-4b50-80ef-6f37825d37d7",
   "metadata": {},
   "outputs": [],
   "source": [
    "import warnings\n",
    "warnings.filterwarnings('ignore')"
   ]
  },
  {
   "cell_type": "markdown",
   "id": "c5057dbf-5776-449e-8f04-7bfc3286e328",
   "metadata": {},
   "source": [
    "### Import Data"
   ]
  },
  {
   "cell_type": "code",
   "execution_count": 3,
   "id": "0986e16f-2c93-481b-854b-0784f2d055d2",
   "metadata": {},
   "outputs": [
    {
     "data": {
      "text/plain": [
       "'C:\\\\Users\\\\15082\\\\OneDrive\\\\Desktop\\\\thesis_research\\\\gtex_v9_data_analysis\\\\FLAIR\\\\work_in_progress'"
      ]
     },
     "execution_count": 3,
     "metadata": {},
     "output_type": "execute_result"
    }
   ],
   "source": [
    "os.getcwd()"
   ]
  },
  {
   "cell_type": "code",
   "execution_count": 4,
   "id": "21a8d8e8-9e4e-4bbb-9aae-ed51660e667e",
   "metadata": {},
   "outputs": [],
   "source": [
    "# change working directory\n",
    "os.chdir('C:\\\\Users\\\\15082\\\\OneDrive\\\\Desktop\\\\thesis_research')"
   ]
  },
  {
   "cell_type": "code",
   "execution_count": 5,
   "id": "bd7c1fb7-a601-427b-9af3-627a58b041c2",
   "metadata": {},
   "outputs": [],
   "source": [
    "data_dir = 'gtex_v9_data\\\\data_for_analysis\\\\gtex_database_data'"
   ]
  },
  {
   "cell_type": "code",
   "execution_count": 6,
   "id": "2b6c3802-ca6e-40e0-b205-eb8ca0009740",
   "metadata": {},
   "outputs": [],
   "source": [
    "transcript_length_file_path = os.path.join(data_dir, 'flair_filter_transcript_isoform_length.txt')"
   ]
  },
  {
   "cell_type": "code",
   "execution_count": 7,
   "id": "c103b441-ed03-459b-b090-6607f13d40de",
   "metadata": {},
   "outputs": [],
   "source": [
    "transcript_length_df = pd.read_csv(transcript_length_file_path, sep='\\t')"
   ]
  },
  {
   "cell_type": "markdown",
   "id": "d2783e40-cc25-49ba-9ecd-09505ae6f682",
   "metadata": {},
   "source": [
    "## Part 2: Overview of Dataset"
   ]
  },
  {
   "cell_type": "code",
   "execution_count": 8,
   "id": "e0df4730-e949-46ea-8c12-0433ba9a107f",
   "metadata": {},
   "outputs": [
    {
     "data": {
      "text/html": [
       "<div>\n",
       "<style scoped>\n",
       "    .dataframe tbody tr th:only-of-type {\n",
       "        vertical-align: middle;\n",
       "    }\n",
       "\n",
       "    .dataframe tbody tr th {\n",
       "        vertical-align: top;\n",
       "    }\n",
       "\n",
       "    .dataframe thead th {\n",
       "        text-align: right;\n",
       "    }\n",
       "</style>\n",
       "<table border=\"1\" class=\"dataframe\">\n",
       "  <thead>\n",
       "    <tr style=\"text-align: right;\">\n",
       "      <th></th>\n",
       "      <th>isoform</th>\n",
       "      <th>gene</th>\n",
       "      <th>length</th>\n",
       "    </tr>\n",
       "  </thead>\n",
       "  <tbody>\n",
       "    <tr>\n",
       "      <th>0</th>\n",
       "      <td>dfe30c5c-ddd7-4ee8-a9ba-74556bd9dd87_chr10:628000</td>\n",
       "      <td>chr10:628000</td>\n",
       "      <td>2618</td>\n",
       "    </tr>\n",
       "    <tr>\n",
       "      <th>1</th>\n",
       "      <td>01252fde-2aa4-4b0d-99f6-c95a4efcc758_chr10:650000</td>\n",
       "      <td>chr10:649000</td>\n",
       "      <td>2709</td>\n",
       "    </tr>\n",
       "    <tr>\n",
       "      <th>2</th>\n",
       "      <td>5d705740-efaf-4cd9-9b68-71d6b775a3be_chr10:306...</td>\n",
       "      <td>chr10:3069000</td>\n",
       "      <td>1026</td>\n",
       "    </tr>\n",
       "    <tr>\n",
       "      <th>3</th>\n",
       "      <td>115765b8-4233-49bb-a2bf-93683ac4e094_chr10:313...</td>\n",
       "      <td>chr10:3132000</td>\n",
       "      <td>1608</td>\n",
       "    </tr>\n",
       "    <tr>\n",
       "      <th>4</th>\n",
       "      <td>6d54e9f3-0815-4ea6-a878-1ef2947c1cd0_chr10:482...</td>\n",
       "      <td>chr10:4826000</td>\n",
       "      <td>2530</td>\n",
       "    </tr>\n",
       "  </tbody>\n",
       "</table>\n",
       "</div>"
      ],
      "text/plain": [
       "                                             isoform           gene  length\n",
       "0  dfe30c5c-ddd7-4ee8-a9ba-74556bd9dd87_chr10:628000   chr10:628000    2618\n",
       "1  01252fde-2aa4-4b0d-99f6-c95a4efcc758_chr10:650000   chr10:649000    2709\n",
       "2  5d705740-efaf-4cd9-9b68-71d6b775a3be_chr10:306...  chr10:3069000    1026\n",
       "3  115765b8-4233-49bb-a2bf-93683ac4e094_chr10:313...  chr10:3132000    1608\n",
       "4  6d54e9f3-0815-4ea6-a878-1ef2947c1cd0_chr10:482...  chr10:4826000    2530"
      ]
     },
     "execution_count": 8,
     "metadata": {},
     "output_type": "execute_result"
    }
   ],
   "source": [
    "transcript_length_df.head(5)"
   ]
  },
  {
   "cell_type": "code",
   "execution_count": 9,
   "id": "6d79def9-3de2-4981-9ff2-9e2e296d7b40",
   "metadata": {},
   "outputs": [
    {
     "data": {
      "text/plain": [
       "(93709, 3)"
      ]
     },
     "execution_count": 9,
     "metadata": {},
     "output_type": "execute_result"
    }
   ],
   "source": [
    "transcript_length_df.shape"
   ]
  },
  {
   "cell_type": "code",
   "execution_count": 10,
   "id": "c8490657-61eb-4b76-8772-b1bdd24dc6ac",
   "metadata": {},
   "outputs": [
    {
     "data": {
      "image/png": "[encoded data removed]",
      "text/plain": [
       "<Figure size 720x576 with 1 Axes>"
      ]
     },
     "metadata": {
      "needs_background": "light"
     },
     "output_type": "display_data"
    }
   ],
   "source": [
    "plt.figure(figsize=(10, 8))\n",
    "sns.histplot(data=transcript_length_df, x=\"length\")\n",
    "plt.show()"
   ]
  },
  {
   "cell_type": "code",
   "execution_count": 11,
   "id": "5f65439f-6521-49ad-9b7b-23eed5ec1640",
   "metadata": {},
   "outputs": [
    {
     "data": {
      "text/plain": [
       "0        dfe30c5c-ddd7-4ee8-a9ba-74556bd9dd87_chr10:628000\n",
       "1        01252fde-2aa4-4b0d-99f6-c95a4efcc758_chr10:650000\n",
       "2        5d705740-efaf-4cd9-9b68-71d6b775a3be_chr10:306...\n",
       "3        115765b8-4233-49bb-a2bf-93683ac4e094_chr10:313...\n",
       "4        6d54e9f3-0815-4ea6-a878-1ef2947c1cd0_chr10:482...\n",
       "                               ...                        \n",
       "93704                 4a6b98d8-7f76-425f-a663-a7d3e4826c05\n",
       "93705                                   ENST00000250784.12\n",
       "93706                 bea576a7-6c87-43f3-8a92-1bbf2af9df4f\n",
       "93707                 82867362-1175-4171-9e9d-620fb01ad65d\n",
       "93708                 141285fb-d028-4740-a9d9-f04a28fbaef1\n",
       "Name: isoform, Length: 93709, dtype: object"
      ]
     },
     "execution_count": 11,
     "metadata": {},
     "output_type": "execute_result"
    }
   ],
   "source": [
    "transcript_length_df['isoform']"
   ]
  },
  {
   "cell_type": "code",
   "execution_count": 12,
   "id": "e1421346-5134-451d-9a64-9deda61b96f3",
   "metadata": {},
   "outputs": [
    {
     "data": {
      "text/html": [
       "<div>\n",
       "<style scoped>\n",
       "    .dataframe tbody tr th:only-of-type {\n",
       "        vertical-align: middle;\n",
       "    }\n",
       "\n",
       "    .dataframe tbody tr th {\n",
       "        vertical-align: top;\n",
       "    }\n",
       "\n",
       "    .dataframe thead th {\n",
       "        text-align: right;\n",
       "    }\n",
       "</style>\n",
       "<table border=\"1\" class=\"dataframe\">\n",
       "  <thead>\n",
       "    <tr style=\"text-align: right;\">\n",
       "      <th></th>\n",
       "      <th>isoform</th>\n",
       "      <th>gene</th>\n",
       "      <th>length</th>\n",
       "    </tr>\n",
       "  </thead>\n",
       "  <tbody>\n",
       "    <tr>\n",
       "      <th>0</th>\n",
       "      <td>dfe30c5c-ddd7-4ee8-a9ba-74556bd9dd87_chr10:628000</td>\n",
       "      <td>chr10:628000</td>\n",
       "      <td>2618</td>\n",
       "    </tr>\n",
       "    <tr>\n",
       "      <th>1</th>\n",
       "      <td>01252fde-2aa4-4b0d-99f6-c95a4efcc758_chr10:650000</td>\n",
       "      <td>chr10:649000</td>\n",
       "      <td>2709</td>\n",
       "    </tr>\n",
       "    <tr>\n",
       "      <th>2</th>\n",
       "      <td>5d705740-efaf-4cd9-9b68-71d6b775a3be_chr10:306...</td>\n",
       "      <td>chr10:3069000</td>\n",
       "      <td>1026</td>\n",
       "    </tr>\n",
       "    <tr>\n",
       "      <th>3</th>\n",
       "      <td>115765b8-4233-49bb-a2bf-93683ac4e094_chr10:313...</td>\n",
       "      <td>chr10:3132000</td>\n",
       "      <td>1608</td>\n",
       "    </tr>\n",
       "    <tr>\n",
       "      <th>4</th>\n",
       "      <td>6d54e9f3-0815-4ea6-a878-1ef2947c1cd0_chr10:482...</td>\n",
       "      <td>chr10:4826000</td>\n",
       "      <td>2530</td>\n",
       "    </tr>\n",
       "  </tbody>\n",
       "</table>\n",
       "</div>"
      ],
      "text/plain": [
       "                                             isoform           gene  length\n",
       "0  dfe30c5c-ddd7-4ee8-a9ba-74556bd9dd87_chr10:628000   chr10:628000    2618\n",
       "1  01252fde-2aa4-4b0d-99f6-c95a4efcc758_chr10:650000   chr10:649000    2709\n",
       "2  5d705740-efaf-4cd9-9b68-71d6b775a3be_chr10:306...  chr10:3069000    1026\n",
       "3  115765b8-4233-49bb-a2bf-93683ac4e094_chr10:313...  chr10:3132000    1608\n",
       "4  6d54e9f3-0815-4ea6-a878-1ef2947c1cd0_chr10:482...  chr10:4826000    2530"
      ]
     },
     "execution_count": 12,
     "metadata": {},
     "output_type": "execute_result"
    }
   ],
   "source": [
    "transcript_length_df.head()"
   ]
  },
  {
   "cell_type": "code",
   "execution_count": 16,
   "id": "5045bf78-f93b-4215-89c2-0795f3d982b1",
   "metadata": {},
   "outputs": [
    {
     "data": {
      "text/plain": [
       "0              chr10:628000\n",
       "1              chr10:649000\n",
       "2             chr10:3069000\n",
       "3             chr10:3132000\n",
       "4             chr10:4826000\n",
       "                ...        \n",
       "93704    ENSG00000131002.11\n",
       "93705    ENSG00000129824.15\n",
       "93706    ENSG00000129824.15\n",
       "93707    ENSG00000165246.13\n",
       "93708    ENSG00000067048.16\n",
       "Name: gene, Length: 93709, dtype: object"
      ]
     },
     "execution_count": 16,
     "metadata": {},
     "output_type": "execute_result"
    }
   ],
   "source": [
    "transcript_length_df.gene"
   ]
  },
  {
   "cell_type": "code",
   "execution_count": 17,
   "id": "8c3ca57b-456d-4404-85b4-4f7a9c324e20",
   "metadata": {},
   "outputs": [],
   "source": [
    "transcript_length_df['composite_id'] = transcript_length_df.apply(lambda x:'%s_%s' % (x['isoform'],x['gene']),axis=1)"
   ]
  },
  {
   "cell_type": "code",
   "execution_count": 18,
   "id": "30173b4d-d3e2-4de5-9468-b18b53e3ebe4",
   "metadata": {},
   "outputs": [
    {
     "data": {
      "text/html": [
       "<div>\n",
       "<style scoped>\n",
       "    .dataframe tbody tr th:only-of-type {\n",
       "        vertical-align: middle;\n",
       "    }\n",
       "\n",
       "    .dataframe tbody tr th {\n",
       "        vertical-align: top;\n",
       "    }\n",
       "\n",
       "    .dataframe thead th {\n",
       "        text-align: right;\n",
       "    }\n",
       "</style>\n",
       "<table border=\"1\" class=\"dataframe\">\n",
       "  <thead>\n",
       "    <tr style=\"text-align: right;\">\n",
       "      <th></th>\n",
       "      <th>isoform</th>\n",
       "      <th>gene</th>\n",
       "      <th>length</th>\n",
       "      <th>composite_id</th>\n",
       "    </tr>\n",
       "  </thead>\n",
       "  <tbody>\n",
       "    <tr>\n",
       "      <th>0</th>\n",
       "      <td>dfe30c5c-ddd7-4ee8-a9ba-74556bd9dd87_chr10:628000</td>\n",
       "      <td>chr10:628000</td>\n",
       "      <td>2618</td>\n",
       "      <td>dfe30c5c-ddd7-4ee8-a9ba-74556bd9dd87_chr10:628...</td>\n",
       "    </tr>\n",
       "    <tr>\n",
       "      <th>1</th>\n",
       "      <td>01252fde-2aa4-4b0d-99f6-c95a4efcc758_chr10:650000</td>\n",
       "      <td>chr10:649000</td>\n",
       "      <td>2709</td>\n",
       "      <td>01252fde-2aa4-4b0d-99f6-c95a4efcc758_chr10:650...</td>\n",
       "    </tr>\n",
       "    <tr>\n",
       "      <th>2</th>\n",
       "      <td>5d705740-efaf-4cd9-9b68-71d6b775a3be_chr10:306...</td>\n",
       "      <td>chr10:3069000</td>\n",
       "      <td>1026</td>\n",
       "      <td>5d705740-efaf-4cd9-9b68-71d6b775a3be_chr10:306...</td>\n",
       "    </tr>\n",
       "  </tbody>\n",
       "</table>\n",
       "</div>"
      ],
      "text/plain": [
       "                                             isoform           gene  length  \\\n",
       "0  dfe30c5c-ddd7-4ee8-a9ba-74556bd9dd87_chr10:628000   chr10:628000    2618   \n",
       "1  01252fde-2aa4-4b0d-99f6-c95a4efcc758_chr10:650000   chr10:649000    2709   \n",
       "2  5d705740-efaf-4cd9-9b68-71d6b775a3be_chr10:306...  chr10:3069000    1026   \n",
       "\n",
       "                                        composite_id  \n",
       "0  dfe30c5c-ddd7-4ee8-a9ba-74556bd9dd87_chr10:628...  \n",
       "1  01252fde-2aa4-4b0d-99f6-c95a4efcc758_chr10:650...  \n",
       "2  5d705740-efaf-4cd9-9b68-71d6b775a3be_chr10:306...  "
      ]
     },
     "execution_count": 18,
     "metadata": {},
     "output_type": "execute_result"
    }
   ],
   "source": [
    "transcript_length_df.head(3)"
   ]
  },
  {
   "cell_type": "markdown",
   "id": "798408a8-b922-42df-8a18-7ad1a271074c",
   "metadata": {},
   "source": [
    "### Export the dataframe"
   ]
  },
  {
   "cell_type": "code",
   "execution_count": 19,
   "id": "e2a6d7f9-f555-48cd-9f5e-4456d2ad497d",
   "metadata": {},
   "outputs": [],
   "source": [
    "#transcript_length_df.to_csv('gtex_v9_data\\\\data_for_analysis\\\\gtex_database_data\\\\transcript_length_df.csv', sep=',')"
   ]
  }
 ],
 "metadata": {
  "kernelspec": {
   "display_name": "Python 3",
   "language": "python",
   "name": "python3"
  },
  "language_info": {
   "codemirror_mode": {
    "name": "ipython",
    "version": 3
   },
   "file_extension": ".py",
   "mimetype": "text/x-python",
   "name": "python",
   "nbconvert_exporter": "python",
   "pygments_lexer": "ipython3",
   "version": "3.8.8"
  }
 },
 "nbformat": 4,
 "nbformat_minor": 5
}
