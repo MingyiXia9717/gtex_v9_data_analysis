{
 "cells": [
  {
   "cell_type": "markdown",
   "id": "e727c699",
   "metadata": {},
   "source": [
    "# Flair Transcript Quantification Results Analysis Part 1"
   ]
  },
  {
   "cell_type": "markdown",
   "id": "5879295b",
   "metadata": {},
   "source": [
    "In this notebook, I imported GTEx V9 RNA-seq transcript quantification data from the open-access GTEx database. The quantification step was done through FLAIR. This notebook contains code for data preprocessing, including the creation of two dataframes: novel transcript quantification data and annotated transcript quantification data."
   ]
  },
  {
   "cell_type": "markdown",
   "id": "4084a937",
   "metadata": {},
   "source": [
    "## Part 1: Import Data and Configure Python Libraries"
   ]
  },
  {
   "cell_type": "code",
   "execution_count": 1,
   "id": "6586f54d",
   "metadata": {},
   "outputs": [],
   "source": [
    "import os\n",
    "import numpy as np\n",
    "import pandas as pd\n",
    "import matplotlib.pyplot as plt\n",
    "import matplotlib.gridspec\n",
    "%matplotlib inline\n",
    "import seaborn as sns\n",
    "import re\n",
    "from IPython.display import display\n",
    "from matplotlib.pyplot import gcf\n",
    "from sklearn.decomposition import PCA \n",
    "from sklearn.preprocessing import StandardScaler\n",
    "from PIL import ImageColor\n",
    "from matplotlib.patches import Patch #for custom legend making\n",
    "import scipy.spatial as sp, scipy.cluster.hierarchy as hc #for faster computing of hierarchial clusters"
   ]
  },
  {
   "cell_type": "code",
   "execution_count": 41,
   "id": "29cdb9df-a85f-4815-a564-be9084df4f5f",
   "metadata": {},
   "outputs": [],
   "source": [
    "import warnings\n",
    "warnings.filterwarnings('ignore')"
   ]
  },
  {
   "cell_type": "code",
   "execution_count": 2,
   "id": "b86dc8ac",
   "metadata": {},
   "outputs": [],
   "source": [
    "#pd.options.display.max_columns = None #display all columns in dataframe"
   ]
  },
  {
   "cell_type": "code",
   "execution_count": 3,
   "id": "4da67326",
   "metadata": {},
   "outputs": [],
   "source": [
    "#pd.options.display.max_colwidth = 100 #show the full content of long strings"
   ]
  },
  {
   "cell_type": "markdown",
   "id": "eec8bfd0",
   "metadata": {},
   "source": [
    "### Import Data"
   ]
  },
  {
   "cell_type": "code",
   "execution_count": 4,
   "id": "49e4c79b",
   "metadata": {},
   "outputs": [
    {
     "data": {
      "text/plain": [
       "'C:\\\\Users\\\\15082\\\\OneDrive\\\\Desktop\\\\thesis_research\\\\gtex_v9_data_analysis\\\\FLAIR'"
      ]
     },
     "execution_count": 4,
     "metadata": {},
     "output_type": "execute_result"
    }
   ],
   "source": [
    "os.getcwd()"
   ]
  },
  {
   "cell_type": "code",
   "execution_count": 5,
   "id": "eda3a96a",
   "metadata": {},
   "outputs": [],
   "source": [
    "data_dir = 'gtex_v9_data\\\\data_for_analysis\\\\gtex_database_data'"
   ]
  },
  {
   "cell_type": "code",
   "execution_count": 6,
   "id": "d3d0f67e",
   "metadata": {},
   "outputs": [],
   "source": [
    "flair_quant_results_file_path = os.path.join(data_dir, 'glinos_flair_quant_tpm_results.csv')"
   ]
  },
  {
   "cell_type": "markdown",
   "id": "6c5d350a",
   "metadata": {},
   "source": [
    "#### Normalized Flair Transcript Quantification Data (in TPM)"
   ]
  },
  {
   "cell_type": "code",
   "execution_count": 7,
   "id": "80a5f117",
   "metadata": {},
   "outputs": [],
   "source": [
    "# change working directory\n",
    "os.chdir('C:\\\\Users\\\\15082\\\\OneDrive\\\\Desktop\\\\thesis_research')"
   ]
  },
  {
   "cell_type": "code",
   "execution_count": 8,
   "id": "a9cd888b",
   "metadata": {},
   "outputs": [],
   "source": [
    "flair_quant_data = pd.read_csv(flair_quant_results_file_path)"
   ]
  },
  {
   "cell_type": "code",
   "execution_count": 9,
   "id": "377333ed",
   "metadata": {},
   "outputs": [
    {
     "data": {
      "text/html": [
       "<div>\n",
       "<style scoped>\n",
       "    .dataframe tbody tr th:only-of-type {\n",
       "        vertical-align: middle;\n",
       "    }\n",
       "\n",
       "    .dataframe tbody tr th {\n",
       "        vertical-align: top;\n",
       "    }\n",
       "\n",
       "    .dataframe thead th {\n",
       "        text-align: right;\n",
       "    }\n",
       "</style>\n",
       "<table border=\"1\" class=\"dataframe\">\n",
       "  <thead>\n",
       "    <tr style=\"text-align: right;\">\n",
       "      <th></th>\n",
       "      <th>transcript</th>\n",
       "      <th>GTEX-1192X-0011-R10a-SM-4RXXZ</th>\n",
       "      <th>GTEX-11H98-0011-R11b-SM-4SFLZ</th>\n",
       "      <th>GTEX-11TTK-0011-R7b-SM-4TVFS</th>\n",
       "      <th>GTEX-1211K-0826-SM-7LDFQ</th>\n",
       "      <th>GTEX-1313W-0011-R7b-SM-4ZL3U</th>\n",
       "      <th>GTEX-13QBU-0426-SM-5A4VT</th>\n",
       "      <th>GTEX-13QJ3-0726-SM-7LDHS</th>\n",
       "      <th>GTEX-13QJ3-0726-SM-7LDHS_rep</th>\n",
       "      <th>GTEX-13RTJ-0011-R7b-SM-5CTCB</th>\n",
       "      <th>...</th>\n",
       "      <th>GTEX-QV44-0008-SM-3QNG7_ctrl2</th>\n",
       "      <th>GTEX-QV44-0008-SM-3QNG7_exp</th>\n",
       "      <th>GTEX-S4Z8-0008-SM-2Y983_ctrl</th>\n",
       "      <th>GTEX-S4Z8-0008-SM-2Y983_exp1</th>\n",
       "      <th>GTEX-S4Z8-0008-SM-2Y983_exp2</th>\n",
       "      <th>GTEX-S95S-0008-SM-3RQ8B_ctrl</th>\n",
       "      <th>GTEX-S95S-0008-SM-3RQ8B_exp1</th>\n",
       "      <th>GTEX-S95S-0008-SM-3RQ8B_exp2</th>\n",
       "      <th>GTEX-WY7C-0008-SM-3NZB5_ctrl</th>\n",
       "      <th>GTEX-WY7C-0008-SM-3NZB5_exp</th>\n",
       "    </tr>\n",
       "  </thead>\n",
       "  <tbody>\n",
       "    <tr>\n",
       "      <th>0</th>\n",
       "      <td>000187c4-a488-40f0-a69c-0a89582f3241_ENSG00000...</td>\n",
       "      <td>0.000000</td>\n",
       "      <td>0.000000</td>\n",
       "      <td>0.000000</td>\n",
       "      <td>0.000000</td>\n",
       "      <td>0.000000</td>\n",
       "      <td>0.000000</td>\n",
       "      <td>0.000000</td>\n",
       "      <td>0.000000</td>\n",
       "      <td>0.000000</td>\n",
       "      <td>...</td>\n",
       "      <td>0.334328</td>\n",
       "      <td>0.358385</td>\n",
       "      <td>0.420881</td>\n",
       "      <td>0.971980</td>\n",
       "      <td>0.000000</td>\n",
       "      <td>0.000000</td>\n",
       "      <td>0.000000</td>\n",
       "      <td>0.262969</td>\n",
       "      <td>0.000000</td>\n",
       "      <td>0.397173</td>\n",
       "    </tr>\n",
       "    <tr>\n",
       "      <th>1</th>\n",
       "      <td>00026598-3078-4e2f-8ac9-dd8f523396b9_ENSG00000...</td>\n",
       "      <td>0.000000</td>\n",
       "      <td>0.000000</td>\n",
       "      <td>0.000000</td>\n",
       "      <td>0.000000</td>\n",
       "      <td>0.000000</td>\n",
       "      <td>0.000000</td>\n",
       "      <td>0.000000</td>\n",
       "      <td>0.000000</td>\n",
       "      <td>0.000000</td>\n",
       "      <td>...</td>\n",
       "      <td>0.000000</td>\n",
       "      <td>0.358385</td>\n",
       "      <td>0.000000</td>\n",
       "      <td>0.000000</td>\n",
       "      <td>0.278141</td>\n",
       "      <td>0.294667</td>\n",
       "      <td>0.000000</td>\n",
       "      <td>0.262969</td>\n",
       "      <td>0.000000</td>\n",
       "      <td>0.397173</td>\n",
       "    </tr>\n",
       "    <tr>\n",
       "      <th>2</th>\n",
       "      <td>0002a5e2-f01a-4690-a7db-7af726712a5e_ENSG00000...</td>\n",
       "      <td>0.380702</td>\n",
       "      <td>5.359084</td>\n",
       "      <td>1.961873</td>\n",
       "      <td>4.590649</td>\n",
       "      <td>1.793796</td>\n",
       "      <td>7.308494</td>\n",
       "      <td>6.346269</td>\n",
       "      <td>2.378808</td>\n",
       "      <td>0.653233</td>\n",
       "      <td>...</td>\n",
       "      <td>8.692515</td>\n",
       "      <td>12.185087</td>\n",
       "      <td>7.154979</td>\n",
       "      <td>12.635743</td>\n",
       "      <td>10.013078</td>\n",
       "      <td>14.144038</td>\n",
       "      <td>13.873059</td>\n",
       "      <td>13.937337</td>\n",
       "      <td>1.727199</td>\n",
       "      <td>11.518015</td>\n",
       "    </tr>\n",
       "    <tr>\n",
       "      <th>3</th>\n",
       "      <td>000339f1-1769-4608-b369-59aa222cd7b7_ENSG00000...</td>\n",
       "      <td>0.000000</td>\n",
       "      <td>0.297727</td>\n",
       "      <td>0.000000</td>\n",
       "      <td>1.020144</td>\n",
       "      <td>0.000000</td>\n",
       "      <td>0.000000</td>\n",
       "      <td>0.000000</td>\n",
       "      <td>0.000000</td>\n",
       "      <td>1.959698</td>\n",
       "      <td>...</td>\n",
       "      <td>0.668655</td>\n",
       "      <td>0.358385</td>\n",
       "      <td>0.420881</td>\n",
       "      <td>0.971980</td>\n",
       "      <td>1.112564</td>\n",
       "      <td>0.294667</td>\n",
       "      <td>0.867066</td>\n",
       "      <td>0.525937</td>\n",
       "      <td>0.431800</td>\n",
       "      <td>1.191519</td>\n",
       "    </tr>\n",
       "    <tr>\n",
       "      <th>4</th>\n",
       "      <td>0003706a-94a7-4419-a61d-6310d7a9c10c_ENSG00000...</td>\n",
       "      <td>14.847375</td>\n",
       "      <td>18.459067</td>\n",
       "      <td>17.656857</td>\n",
       "      <td>4.080577</td>\n",
       "      <td>10.762776</td>\n",
       "      <td>13.288171</td>\n",
       "      <td>15.577205</td>\n",
       "      <td>11.418279</td>\n",
       "      <td>11.104956</td>\n",
       "      <td>...</td>\n",
       "      <td>5.683568</td>\n",
       "      <td>7.167698</td>\n",
       "      <td>6.313216</td>\n",
       "      <td>10.691783</td>\n",
       "      <td>6.397244</td>\n",
       "      <td>7.366687</td>\n",
       "      <td>6.936529</td>\n",
       "      <td>9.203902</td>\n",
       "      <td>9.067796</td>\n",
       "      <td>7.149113</td>\n",
       "    </tr>\n",
       "  </tbody>\n",
       "</table>\n",
       "<p>5 rows × 93 columns</p>\n",
       "</div>"
      ],
      "text/plain": [
       "                                          transcript  \\\n",
       "0  000187c4-a488-40f0-a69c-0a89582f3241_ENSG00000...   \n",
       "1  00026598-3078-4e2f-8ac9-dd8f523396b9_ENSG00000...   \n",
       "2  0002a5e2-f01a-4690-a7db-7af726712a5e_ENSG00000...   \n",
       "3  000339f1-1769-4608-b369-59aa222cd7b7_ENSG00000...   \n",
       "4  0003706a-94a7-4419-a61d-6310d7a9c10c_ENSG00000...   \n",
       "\n",
       "   GTEX-1192X-0011-R10a-SM-4RXXZ  GTEX-11H98-0011-R11b-SM-4SFLZ  \\\n",
       "0                       0.000000                       0.000000   \n",
       "1                       0.000000                       0.000000   \n",
       "2                       0.380702                       5.359084   \n",
       "3                       0.000000                       0.297727   \n",
       "4                      14.847375                      18.459067   \n",
       "\n",
       "   GTEX-11TTK-0011-R7b-SM-4TVFS  GTEX-1211K-0826-SM-7LDFQ  \\\n",
       "0                      0.000000                  0.000000   \n",
       "1                      0.000000                  0.000000   \n",
       "2                      1.961873                  4.590649   \n",
       "3                      0.000000                  1.020144   \n",
       "4                     17.656857                  4.080577   \n",
       "\n",
       "   GTEX-1313W-0011-R7b-SM-4ZL3U  GTEX-13QBU-0426-SM-5A4VT  \\\n",
       "0                      0.000000                  0.000000   \n",
       "1                      0.000000                  0.000000   \n",
       "2                      1.793796                  7.308494   \n",
       "3                      0.000000                  0.000000   \n",
       "4                     10.762776                 13.288171   \n",
       "\n",
       "   GTEX-13QJ3-0726-SM-7LDHS  GTEX-13QJ3-0726-SM-7LDHS_rep  \\\n",
       "0                  0.000000                      0.000000   \n",
       "1                  0.000000                      0.000000   \n",
       "2                  6.346269                      2.378808   \n",
       "3                  0.000000                      0.000000   \n",
       "4                 15.577205                     11.418279   \n",
       "\n",
       "   GTEX-13RTJ-0011-R7b-SM-5CTCB  ...  GTEX-QV44-0008-SM-3QNG7_ctrl2  \\\n",
       "0                      0.000000  ...                       0.334328   \n",
       "1                      0.000000  ...                       0.000000   \n",
       "2                      0.653233  ...                       8.692515   \n",
       "3                      1.959698  ...                       0.668655   \n",
       "4                     11.104956  ...                       5.683568   \n",
       "\n",
       "   GTEX-QV44-0008-SM-3QNG7_exp  GTEX-S4Z8-0008-SM-2Y983_ctrl  \\\n",
       "0                     0.358385                      0.420881   \n",
       "1                     0.358385                      0.000000   \n",
       "2                    12.185087                      7.154979   \n",
       "3                     0.358385                      0.420881   \n",
       "4                     7.167698                      6.313216   \n",
       "\n",
       "   GTEX-S4Z8-0008-SM-2Y983_exp1  GTEX-S4Z8-0008-SM-2Y983_exp2  \\\n",
       "0                      0.971980                      0.000000   \n",
       "1                      0.000000                      0.278141   \n",
       "2                     12.635743                     10.013078   \n",
       "3                      0.971980                      1.112564   \n",
       "4                     10.691783                      6.397244   \n",
       "\n",
       "   GTEX-S95S-0008-SM-3RQ8B_ctrl  GTEX-S95S-0008-SM-3RQ8B_exp1  \\\n",
       "0                      0.000000                      0.000000   \n",
       "1                      0.294667                      0.000000   \n",
       "2                     14.144038                     13.873059   \n",
       "3                      0.294667                      0.867066   \n",
       "4                      7.366687                      6.936529   \n",
       "\n",
       "   GTEX-S95S-0008-SM-3RQ8B_exp2  GTEX-WY7C-0008-SM-3NZB5_ctrl  \\\n",
       "0                      0.262969                      0.000000   \n",
       "1                      0.262969                      0.000000   \n",
       "2                     13.937337                      1.727199   \n",
       "3                      0.525937                      0.431800   \n",
       "4                      9.203902                      9.067796   \n",
       "\n",
       "   GTEX-WY7C-0008-SM-3NZB5_exp  \n",
       "0                     0.397173  \n",
       "1                     0.397173  \n",
       "2                    11.518015  \n",
       "3                     1.191519  \n",
       "4                     7.149113  \n",
       "\n",
       "[5 rows x 93 columns]"
      ]
     },
     "execution_count": 9,
     "metadata": {},
     "output_type": "execute_result"
    }
   ],
   "source": [
    "flair_quant_data.head(5)"
   ]
  },
  {
   "cell_type": "code",
   "execution_count": 10,
   "id": "d3239b48",
   "metadata": {},
   "outputs": [
    {
     "data": {
      "text/plain": [
       "(93630, 93)"
      ]
     },
     "execution_count": 10,
     "metadata": {},
     "output_type": "execute_result"
    }
   ],
   "source": [
    "flair_quant_data.shape"
   ]
  },
  {
   "cell_type": "markdown",
   "id": "32ebfc13",
   "metadata": {},
   "source": [
    "#### Complete Sample Information (Supplementary Table 1)"
   ]
  },
  {
   "cell_type": "markdown",
   "id": "9fc19e61",
   "metadata": {},
   "source": [
    "Samples sequencing metadata"
   ]
  },
  {
   "cell_type": "code",
   "execution_count": 11,
   "id": "7636af56",
   "metadata": {},
   "outputs": [],
   "source": [
    "sample_info_path = os.path.join(data_dir, 'sample_info_complete.csv')"
   ]
  },
  {
   "cell_type": "code",
   "execution_count": 12,
   "id": "31a5efc0",
   "metadata": {},
   "outputs": [],
   "source": [
    "sample_info = pd.read_csv(sample_info_path)"
   ]
  },
  {
   "cell_type": "code",
   "execution_count": 13,
   "id": "6708484b",
   "metadata": {},
   "outputs": [
    {
     "data": {
      "text/html": [
       "<div>\n",
       "<style scoped>\n",
       "    .dataframe tbody tr th:only-of-type {\n",
       "        vertical-align: middle;\n",
       "    }\n",
       "\n",
       "    .dataframe tbody tr th {\n",
       "        vertical-align: top;\n",
       "    }\n",
       "\n",
       "    .dataframe thead th {\n",
       "        text-align: right;\n",
       "    }\n",
       "</style>\n",
       "<table border=\"1\" class=\"dataframe\">\n",
       "  <thead>\n",
       "    <tr style=\"text-align: right;\">\n",
       "      <th></th>\n",
       "      <th>sample_id</th>\n",
       "      <th>date_of_sequencing</th>\n",
       "      <th>sample_name</th>\n",
       "      <th>tissue</th>\n",
       "      <th>protocol</th>\n",
       "      <th>mrna_rin</th>\n",
       "      <th>flush_buffer</th>\n",
       "      <th>amount_loaded_ng</th>\n",
       "      <th>run_time</th>\n",
       "      <th>total_reads</th>\n",
       "      <th>median_read_length</th>\n",
       "      <th>median_read_quality</th>\n",
       "      <th>aligned_reads</th>\n",
       "      <th>median_read_length_align</th>\n",
       "      <th>median_read_quality_aligned</th>\n",
       "      <th>WGS</th>\n",
       "      <th>data_center</th>\n",
       "      <th>RNA_extraction_method</th>\n",
       "      <th>3_prime_bias_median</th>\n",
       "      <th>3_prime_bias_sd</th>\n",
       "    </tr>\n",
       "  </thead>\n",
       "  <tbody>\n",
       "    <tr>\n",
       "      <th>0</th>\n",
       "      <td>LV1681</td>\n",
       "      <td>53119</td>\n",
       "      <td>CVD-LV1681</td>\n",
       "      <td>Heart - Left Ventricle</td>\n",
       "      <td>cDNA-PCR</td>\n",
       "      <td>NaN</td>\n",
       "      <td>PBT</td>\n",
       "      <td>60.0</td>\n",
       "      <td>48.0</td>\n",
       "      <td>2287307</td>\n",
       "      <td>195</td>\n",
       "      <td>9.9</td>\n",
       "      <td>620717</td>\n",
       "      <td>696</td>\n",
       "      <td>10.9</td>\n",
       "      <td>No</td>\n",
       "      <td>BROAD</td>\n",
       "      <td>RNA Extraction from Paxgene-derived Lysate Pla...</td>\n",
       "      <td>0.653</td>\n",
       "      <td>0.378</td>\n",
       "    </tr>\n",
       "    <tr>\n",
       "      <th>1</th>\n",
       "      <td>LV1702</td>\n",
       "      <td>53119</td>\n",
       "      <td>CVD-LV1702</td>\n",
       "      <td>Heart - Left Ventricle</td>\n",
       "      <td>cDNA-PCR</td>\n",
       "      <td>NaN</td>\n",
       "      <td>PBT</td>\n",
       "      <td>60.0</td>\n",
       "      <td>48.0</td>\n",
       "      <td>4456040</td>\n",
       "      <td>211</td>\n",
       "      <td>10.3</td>\n",
       "      <td>1517665</td>\n",
       "      <td>737</td>\n",
       "      <td>11.5</td>\n",
       "      <td>No</td>\n",
       "      <td>BROAD</td>\n",
       "      <td>RNA Extraction from Paxgene-derived Lysate Pla...</td>\n",
       "      <td>0.754</td>\n",
       "      <td>0.357</td>\n",
       "    </tr>\n",
       "    <tr>\n",
       "      <th>2</th>\n",
       "      <td>LV1708</td>\n",
       "      <td>60319</td>\n",
       "      <td>CVD-LV1708</td>\n",
       "      <td>Heart - Left Ventricle</td>\n",
       "      <td>cDNA-PCR</td>\n",
       "      <td>NaN</td>\n",
       "      <td>PBT</td>\n",
       "      <td>60.0</td>\n",
       "      <td>48.0</td>\n",
       "      <td>2586875</td>\n",
       "      <td>261</td>\n",
       "      <td>10.5</td>\n",
       "      <td>1117070</td>\n",
       "      <td>699</td>\n",
       "      <td>11.2</td>\n",
       "      <td>No</td>\n",
       "      <td>BROAD</td>\n",
       "      <td>RNA Extraction from Paxgene-derived Lysate Pla...</td>\n",
       "      <td>0.659</td>\n",
       "      <td>0.382</td>\n",
       "    </tr>\n",
       "    <tr>\n",
       "      <th>3</th>\n",
       "      <td>LV1723</td>\n",
       "      <td>60319</td>\n",
       "      <td>CVD-LV1723</td>\n",
       "      <td>Heart - Left Ventricle</td>\n",
       "      <td>cDNA-PCR</td>\n",
       "      <td>NaN</td>\n",
       "      <td>PBT</td>\n",
       "      <td>60.0</td>\n",
       "      <td>48.0</td>\n",
       "      <td>3577244</td>\n",
       "      <td>230</td>\n",
       "      <td>10.5</td>\n",
       "      <td>1017015</td>\n",
       "      <td>666</td>\n",
       "      <td>11.5</td>\n",
       "      <td>No</td>\n",
       "      <td>BROAD</td>\n",
       "      <td>RNA Extraction from Paxgene-derived Lysate Pla...</td>\n",
       "      <td>0.570</td>\n",
       "      <td>0.399</td>\n",
       "    </tr>\n",
       "    <tr>\n",
       "      <th>4</th>\n",
       "      <td>GTEX-1192X-0011-R10a-SM-4RXXZ</td>\n",
       "      <td>52219</td>\n",
       "      <td>GTEX-1192X</td>\n",
       "      <td>Brain - Frontal Cortex (BA9)</td>\n",
       "      <td>cDNA-PCR</td>\n",
       "      <td>8.7</td>\n",
       "      <td>PBT</td>\n",
       "      <td>60.0</td>\n",
       "      <td>48.0</td>\n",
       "      <td>7568902</td>\n",
       "      <td>651</td>\n",
       "      <td>11.4</td>\n",
       "      <td>5593813</td>\n",
       "      <td>750</td>\n",
       "      <td>11.8</td>\n",
       "      <td>Yes</td>\n",
       "      <td>BROAD</td>\n",
       "      <td>RNA isolation_PAXgene Tissue miRNA</td>\n",
       "      <td>0.782</td>\n",
       "      <td>0.348</td>\n",
       "    </tr>\n",
       "  </tbody>\n",
       "</table>\n",
       "</div>"
      ],
      "text/plain": [
       "                       sample_id  date_of_sequencing sample_name  \\\n",
       "0                         LV1681               53119  CVD-LV1681   \n",
       "1                         LV1702               53119  CVD-LV1702   \n",
       "2                         LV1708               60319  CVD-LV1708   \n",
       "3                         LV1723               60319  CVD-LV1723   \n",
       "4  GTEX-1192X-0011-R10a-SM-4RXXZ               52219  GTEX-1192X   \n",
       "\n",
       "                         tissue  protocol  mrna_rin flush_buffer  \\\n",
       "0        Heart - Left Ventricle  cDNA-PCR       NaN          PBT   \n",
       "1        Heart - Left Ventricle  cDNA-PCR       NaN          PBT   \n",
       "2        Heart - Left Ventricle  cDNA-PCR       NaN          PBT   \n",
       "3        Heart - Left Ventricle  cDNA-PCR       NaN          PBT   \n",
       "4  Brain - Frontal Cortex (BA9)  cDNA-PCR       8.7          PBT   \n",
       "\n",
       "   amount_loaded_ng  run_time   total_reads  median_read_length  \\\n",
       "0              60.0      48.0        2287307                195   \n",
       "1              60.0      48.0        4456040                211   \n",
       "2              60.0      48.0        2586875                261   \n",
       "3              60.0      48.0        3577244                230   \n",
       "4              60.0      48.0        7568902                651   \n",
       "\n",
       "   median_read_quality  aligned_reads median_read_length_align  \\\n",
       "0                  9.9         620717                      696   \n",
       "1                 10.3        1517665                      737   \n",
       "2                 10.5        1117070                      699   \n",
       "3                 10.5        1017015                      666   \n",
       "4                 11.4        5593813                      750   \n",
       "\n",
       "   median_read_quality_aligned  WGS data_center  \\\n",
       "0                         10.9   No       BROAD   \n",
       "1                         11.5   No       BROAD   \n",
       "2                         11.2   No       BROAD   \n",
       "3                         11.5   No       BROAD   \n",
       "4                         11.8  Yes       BROAD   \n",
       "\n",
       "                               RNA_extraction_method  3_prime_bias_median  \\\n",
       "0  RNA Extraction from Paxgene-derived Lysate Pla...                0.653   \n",
       "1  RNA Extraction from Paxgene-derived Lysate Pla...                0.754   \n",
       "2  RNA Extraction from Paxgene-derived Lysate Pla...                0.659   \n",
       "3  RNA Extraction from Paxgene-derived Lysate Pla...                0.570   \n",
       "4                 RNA isolation_PAXgene Tissue miRNA                0.782   \n",
       "\n",
       "   3_prime_bias_sd  \n",
       "0            0.378  \n",
       "1            0.357  \n",
       "2            0.382  \n",
       "3            0.399  \n",
       "4            0.348  "
      ]
     },
     "execution_count": 13,
     "metadata": {},
     "output_type": "execute_result"
    }
   ],
   "source": [
    "sample_info.head(5)"
   ]
  },
  {
   "cell_type": "code",
   "execution_count": 14,
   "id": "d5ae40d4",
   "metadata": {},
   "outputs": [
    {
     "data": {
      "text/plain": [
       "(96, 20)"
      ]
     },
     "execution_count": 14,
     "metadata": {},
     "output_type": "execute_result"
    }
   ],
   "source": [
    "sample_info.shape"
   ]
  },
  {
   "cell_type": "markdown",
   "id": "0c729551",
   "metadata": {},
   "source": [
    "### Overview of datasets"
   ]
  },
  {
   "cell_type": "code",
   "execution_count": 15,
   "id": "02e4c6e9",
   "metadata": {},
   "outputs": [
    {
     "data": {
      "text/html": [
       "<div>\n",
       "<style scoped>\n",
       "    .dataframe tbody tr th:only-of-type {\n",
       "        vertical-align: middle;\n",
       "    }\n",
       "\n",
       "    .dataframe tbody tr th {\n",
       "        vertical-align: top;\n",
       "    }\n",
       "\n",
       "    .dataframe thead th {\n",
       "        text-align: right;\n",
       "    }\n",
       "</style>\n",
       "<table border=\"1\" class=\"dataframe\">\n",
       "  <thead>\n",
       "    <tr style=\"text-align: right;\">\n",
       "      <th></th>\n",
       "      <th>transcript</th>\n",
       "    </tr>\n",
       "  </thead>\n",
       "  <tbody>\n",
       "    <tr>\n",
       "      <th>count</th>\n",
       "      <td>93630</td>\n",
       "    </tr>\n",
       "    <tr>\n",
       "      <th>unique</th>\n",
       "      <td>93630</td>\n",
       "    </tr>\n",
       "    <tr>\n",
       "      <th>top</th>\n",
       "      <td>000187c4-a488-40f0-a69c-0a89582f3241_ENSG00000...</td>\n",
       "    </tr>\n",
       "    <tr>\n",
       "      <th>freq</th>\n",
       "      <td>1</td>\n",
       "    </tr>\n",
       "  </tbody>\n",
       "</table>\n",
       "</div>"
      ],
      "text/plain": [
       "                                               transcript\n",
       "count                                               93630\n",
       "unique                                              93630\n",
       "top     000187c4-a488-40f0-a69c-0a89582f3241_ENSG00000...\n",
       "freq                                                    1"
      ]
     },
     "execution_count": 15,
     "metadata": {},
     "output_type": "execute_result"
    }
   ],
   "source": [
    "flair_quant_data.describe(include='object')"
   ]
  },
  {
   "cell_type": "code",
   "execution_count": 16,
   "id": "1ec5e678",
   "metadata": {},
   "outputs": [
    {
     "data": {
      "text/html": [
       "<div>\n",
       "<style scoped>\n",
       "    .dataframe tbody tr th:only-of-type {\n",
       "        vertical-align: middle;\n",
       "    }\n",
       "\n",
       "    .dataframe tbody tr th {\n",
       "        vertical-align: top;\n",
       "    }\n",
       "\n",
       "    .dataframe thead th {\n",
       "        text-align: right;\n",
       "    }\n",
       "</style>\n",
       "<table border=\"1\" class=\"dataframe\">\n",
       "  <thead>\n",
       "    <tr style=\"text-align: right;\">\n",
       "      <th></th>\n",
       "      <th>sample_id</th>\n",
       "      <th>sample_name</th>\n",
       "      <th>tissue</th>\n",
       "      <th>protocol</th>\n",
       "      <th>flush_buffer</th>\n",
       "      <th>median_read_length</th>\n",
       "      <th>median_read_length_align</th>\n",
       "      <th>WGS</th>\n",
       "      <th>data_center</th>\n",
       "      <th>RNA_extraction_method</th>\n",
       "    </tr>\n",
       "  </thead>\n",
       "  <tbody>\n",
       "    <tr>\n",
       "      <th>count</th>\n",
       "      <td>96</td>\n",
       "      <td>96</td>\n",
       "      <td>96</td>\n",
       "      <td>96</td>\n",
       "      <td>96</td>\n",
       "      <td>96</td>\n",
       "      <td>96</td>\n",
       "      <td>96</td>\n",
       "      <td>96</td>\n",
       "      <td>96</td>\n",
       "    </tr>\n",
       "    <tr>\n",
       "      <th>unique</th>\n",
       "      <td>96</td>\n",
       "      <td>61</td>\n",
       "      <td>15</td>\n",
       "      <td>2</td>\n",
       "      <td>2</td>\n",
       "      <td>87</td>\n",
       "      <td>83</td>\n",
       "      <td>2</td>\n",
       "      <td>2</td>\n",
       "      <td>3</td>\n",
       "    </tr>\n",
       "    <tr>\n",
       "      <th>top</th>\n",
       "      <td>LV1681</td>\n",
       "      <td>GTEX-WY7C</td>\n",
       "      <td>Cells - Cultured fibroblasts</td>\n",
       "      <td>cDNA-PCR</td>\n",
       "      <td>PBT</td>\n",
       "      <td>797</td>\n",
       "      <td>764</td>\n",
       "      <td>Yes</td>\n",
       "      <td>BROAD</td>\n",
       "      <td>RNA Extraction from Paxgene-derived Lysate Pla...</td>\n",
       "    </tr>\n",
       "    <tr>\n",
       "      <th>freq</th>\n",
       "      <td>1</td>\n",
       "      <td>6</td>\n",
       "      <td>22</td>\n",
       "      <td>94</td>\n",
       "      <td>63</td>\n",
       "      <td>2</td>\n",
       "      <td>3</td>\n",
       "      <td>83</td>\n",
       "      <td>83</td>\n",
       "      <td>35</td>\n",
       "    </tr>\n",
       "  </tbody>\n",
       "</table>\n",
       "</div>"
      ],
      "text/plain": [
       "       sample_id sample_name                        tissue  protocol  \\\n",
       "count         96          96                            96        96   \n",
       "unique        96          61                            15         2   \n",
       "top       LV1681   GTEX-WY7C  Cells - Cultured fibroblasts  cDNA-PCR   \n",
       "freq           1           6                            22        94   \n",
       "\n",
       "       flush_buffer median_read_length median_read_length_align  WGS  \\\n",
       "count            96                 96                       96   96   \n",
       "unique            2                 87                       83    2   \n",
       "top             PBT                797                      764  Yes   \n",
       "freq             63                  2                        3   83   \n",
       "\n",
       "       data_center                              RNA_extraction_method  \n",
       "count           96                                                 96  \n",
       "unique           2                                                  3  \n",
       "top          BROAD  RNA Extraction from Paxgene-derived Lysate Pla...  \n",
       "freq            83                                                 35  "
      ]
     },
     "execution_count": 16,
     "metadata": {},
     "output_type": "execute_result"
    }
   ],
   "source": [
    "sample_info.describe(include='object')"
   ]
  },
  {
   "cell_type": "code",
   "execution_count": 17,
   "id": "416bab84",
   "metadata": {},
   "outputs": [
    {
     "name": "stdout",
     "output_type": "stream",
     "text": [
      "<class 'pandas.core.frame.DataFrame'>\n",
      "RangeIndex: 96 entries, 0 to 95\n",
      "Data columns (total 20 columns):\n",
      " #   Column                       Non-Null Count  Dtype  \n",
      "---  ------                       --------------  -----  \n",
      " 0   sample_id                    96 non-null     object \n",
      " 1   date_of_sequencing           96 non-null     int64  \n",
      " 2   sample_name                  96 non-null     object \n",
      " 3   tissue                       96 non-null     object \n",
      " 4   protocol                     96 non-null     object \n",
      " 5   mrna_rin                     92 non-null     float64\n",
      " 6   flush_buffer                 96 non-null     object \n",
      " 7   amount_loaded_ng             96 non-null     float64\n",
      " 8   run_time                     92 non-null     float64\n",
      " 9    total_reads                 96 non-null     int64  \n",
      " 10  median_read_length           96 non-null     object \n",
      " 11  median_read_quality          96 non-null     float64\n",
      " 12  aligned_reads                96 non-null     int64  \n",
      " 13  median_read_length_align     96 non-null     object \n",
      " 14  median_read_quality_aligned  96 non-null     float64\n",
      " 15  WGS                          96 non-null     object \n",
      " 16  data_center                  96 non-null     object \n",
      " 17  RNA_extraction_method        96 non-null     object \n",
      " 18  3_prime_bias_median          95 non-null     float64\n",
      " 19  3_prime_bias_sd              95 non-null     float64\n",
      "dtypes: float64(7), int64(3), object(10)\n",
      "memory usage: 15.1+ KB\n"
     ]
    }
   ],
   "source": [
    "sample_info.info()"
   ]
  },
  {
   "cell_type": "code",
   "execution_count": 18,
   "id": "48c3fdf0",
   "metadata": {},
   "outputs": [
    {
     "data": {
      "text/plain": [
       "96"
      ]
     },
     "execution_count": 18,
     "metadata": {},
     "output_type": "execute_result"
    }
   ],
   "source": [
    "len(pd.unique(sample_info['sample_id']))"
   ]
  },
  {
   "cell_type": "code",
   "execution_count": 19,
   "id": "8ac3a767",
   "metadata": {},
   "outputs": [
    {
     "name": "stdout",
     "output_type": "stream",
     "text": [
      "tissue\n",
      "Adipose - Subcutaneous                       1\n",
      "Brain - Anterior cingulate cortex (BA24)     1\n",
      "Brain - Caudate (basal ganglia)              1\n",
      "Brain - Cerebellar Hemisphere                8\n",
      "Brain - Frontal Cortex (BA9)                 6\n",
      "Brain - Putamen (basal ganglia)              6\n",
      "Breast - Mammary Tissue                      1\n",
      "Cells - Cultured fibroblasts                22\n",
      "Heart - Atrial Appendage                     9\n",
      "Heart - Left Ventricle                      11\n",
      "K562                                         4\n",
      "Liver                                        8\n",
      "Lung                                         8\n",
      "Muscle - Skeletal                            9\n",
      "Pancreas                                     1\n",
      "dtype: int64\n"
     ]
    }
   ],
   "source": [
    "print(sample_info.groupby('tissue').size())"
   ]
  },
  {
   "cell_type": "markdown",
   "id": "ccefdc3c",
   "metadata": {},
   "source": [
    "## Part 2: Data Cleaning and Manipulation"
   ]
  },
  {
   "cell_type": "markdown",
   "id": "0ab591ef",
   "metadata": {},
   "source": [
    "### Make Separate Dataframes for Novel and Annotated Transcripts"
   ]
  },
  {
   "cell_type": "markdown",
   "id": "6e881e22",
   "metadata": {},
   "source": [
    "### (1) Dataframe of Novel Transcripts"
   ]
  },
  {
   "cell_type": "code",
   "execution_count": 20,
   "id": "3ec68220",
   "metadata": {},
   "outputs": [],
   "source": [
    "flair_quant_data['transcript_type'] = flair_quant_data['transcript'].apply(lambda x: x[0])\n",
    "flair_quant_data['novel_or_annot'] = flair_quant_data['transcript_type'].apply(lambda x: 'annot' if x=='E' else 'novel')"
   ]
  },
  {
   "cell_type": "code",
   "execution_count": 21,
   "id": "c3fab025",
   "metadata": {},
   "outputs": [
    {
     "data": {
      "text/html": [
       "<div>\n",
       "<style scoped>\n",
       "    .dataframe tbody tr th:only-of-type {\n",
       "        vertical-align: middle;\n",
       "    }\n",
       "\n",
       "    .dataframe tbody tr th {\n",
       "        vertical-align: top;\n",
       "    }\n",
       "\n",
       "    .dataframe thead th {\n",
       "        text-align: right;\n",
       "    }\n",
       "</style>\n",
       "<table border=\"1\" class=\"dataframe\">\n",
       "  <thead>\n",
       "    <tr style=\"text-align: right;\">\n",
       "      <th></th>\n",
       "      <th>transcript</th>\n",
       "      <th>GTEX-1192X-0011-R10a-SM-4RXXZ</th>\n",
       "      <th>GTEX-11H98-0011-R11b-SM-4SFLZ</th>\n",
       "      <th>GTEX-11TTK-0011-R7b-SM-4TVFS</th>\n",
       "      <th>GTEX-1211K-0826-SM-7LDFQ</th>\n",
       "      <th>GTEX-1313W-0011-R7b-SM-4ZL3U</th>\n",
       "      <th>GTEX-13QBU-0426-SM-5A4VT</th>\n",
       "      <th>GTEX-13QJ3-0726-SM-7LDHS</th>\n",
       "      <th>GTEX-13QJ3-0726-SM-7LDHS_rep</th>\n",
       "      <th>GTEX-13RTJ-0011-R7b-SM-5CTCB</th>\n",
       "      <th>...</th>\n",
       "      <th>GTEX-S4Z8-0008-SM-2Y983_ctrl</th>\n",
       "      <th>GTEX-S4Z8-0008-SM-2Y983_exp1</th>\n",
       "      <th>GTEX-S4Z8-0008-SM-2Y983_exp2</th>\n",
       "      <th>GTEX-S95S-0008-SM-3RQ8B_ctrl</th>\n",
       "      <th>GTEX-S95S-0008-SM-3RQ8B_exp1</th>\n",
       "      <th>GTEX-S95S-0008-SM-3RQ8B_exp2</th>\n",
       "      <th>GTEX-WY7C-0008-SM-3NZB5_ctrl</th>\n",
       "      <th>GTEX-WY7C-0008-SM-3NZB5_exp</th>\n",
       "      <th>transcript_type</th>\n",
       "      <th>novel_or_annot</th>\n",
       "    </tr>\n",
       "  </thead>\n",
       "  <tbody>\n",
       "    <tr>\n",
       "      <th>0</th>\n",
       "      <td>000187c4-a488-40f0-a69c-0a89582f3241_ENSG00000...</td>\n",
       "      <td>0.000000</td>\n",
       "      <td>0.000000</td>\n",
       "      <td>0.000000</td>\n",
       "      <td>0.000000</td>\n",
       "      <td>0.000000</td>\n",
       "      <td>0.000000</td>\n",
       "      <td>0.000000</td>\n",
       "      <td>0.000000</td>\n",
       "      <td>0.000000</td>\n",
       "      <td>...</td>\n",
       "      <td>0.420881</td>\n",
       "      <td>0.971980</td>\n",
       "      <td>0.000000</td>\n",
       "      <td>0.000000</td>\n",
       "      <td>0.000000</td>\n",
       "      <td>0.262969</td>\n",
       "      <td>0.000000</td>\n",
       "      <td>0.397173</td>\n",
       "      <td>0</td>\n",
       "      <td>novel</td>\n",
       "    </tr>\n",
       "    <tr>\n",
       "      <th>1</th>\n",
       "      <td>00026598-3078-4e2f-8ac9-dd8f523396b9_ENSG00000...</td>\n",
       "      <td>0.000000</td>\n",
       "      <td>0.000000</td>\n",
       "      <td>0.000000</td>\n",
       "      <td>0.000000</td>\n",
       "      <td>0.000000</td>\n",
       "      <td>0.000000</td>\n",
       "      <td>0.000000</td>\n",
       "      <td>0.000000</td>\n",
       "      <td>0.000000</td>\n",
       "      <td>...</td>\n",
       "      <td>0.000000</td>\n",
       "      <td>0.000000</td>\n",
       "      <td>0.278141</td>\n",
       "      <td>0.294667</td>\n",
       "      <td>0.000000</td>\n",
       "      <td>0.262969</td>\n",
       "      <td>0.000000</td>\n",
       "      <td>0.397173</td>\n",
       "      <td>0</td>\n",
       "      <td>novel</td>\n",
       "    </tr>\n",
       "    <tr>\n",
       "      <th>2</th>\n",
       "      <td>0002a5e2-f01a-4690-a7db-7af726712a5e_ENSG00000...</td>\n",
       "      <td>0.380702</td>\n",
       "      <td>5.359084</td>\n",
       "      <td>1.961873</td>\n",
       "      <td>4.590649</td>\n",
       "      <td>1.793796</td>\n",
       "      <td>7.308494</td>\n",
       "      <td>6.346269</td>\n",
       "      <td>2.378808</td>\n",
       "      <td>0.653233</td>\n",
       "      <td>...</td>\n",
       "      <td>7.154979</td>\n",
       "      <td>12.635743</td>\n",
       "      <td>10.013078</td>\n",
       "      <td>14.144038</td>\n",
       "      <td>13.873059</td>\n",
       "      <td>13.937337</td>\n",
       "      <td>1.727199</td>\n",
       "      <td>11.518015</td>\n",
       "      <td>0</td>\n",
       "      <td>novel</td>\n",
       "    </tr>\n",
       "  </tbody>\n",
       "</table>\n",
       "<p>3 rows × 95 columns</p>\n",
       "</div>"
      ],
      "text/plain": [
       "                                          transcript  \\\n",
       "0  000187c4-a488-40f0-a69c-0a89582f3241_ENSG00000...   \n",
       "1  00026598-3078-4e2f-8ac9-dd8f523396b9_ENSG00000...   \n",
       "2  0002a5e2-f01a-4690-a7db-7af726712a5e_ENSG00000...   \n",
       "\n",
       "   GTEX-1192X-0011-R10a-SM-4RXXZ  GTEX-11H98-0011-R11b-SM-4SFLZ  \\\n",
       "0                       0.000000                       0.000000   \n",
       "1                       0.000000                       0.000000   \n",
       "2                       0.380702                       5.359084   \n",
       "\n",
       "   GTEX-11TTK-0011-R7b-SM-4TVFS  GTEX-1211K-0826-SM-7LDFQ  \\\n",
       "0                      0.000000                  0.000000   \n",
       "1                      0.000000                  0.000000   \n",
       "2                      1.961873                  4.590649   \n",
       "\n",
       "   GTEX-1313W-0011-R7b-SM-4ZL3U  GTEX-13QBU-0426-SM-5A4VT  \\\n",
       "0                      0.000000                  0.000000   \n",
       "1                      0.000000                  0.000000   \n",
       "2                      1.793796                  7.308494   \n",
       "\n",
       "   GTEX-13QJ3-0726-SM-7LDHS  GTEX-13QJ3-0726-SM-7LDHS_rep  \\\n",
       "0                  0.000000                      0.000000   \n",
       "1                  0.000000                      0.000000   \n",
       "2                  6.346269                      2.378808   \n",
       "\n",
       "   GTEX-13RTJ-0011-R7b-SM-5CTCB  ...  GTEX-S4Z8-0008-SM-2Y983_ctrl  \\\n",
       "0                      0.000000  ...                      0.420881   \n",
       "1                      0.000000  ...                      0.000000   \n",
       "2                      0.653233  ...                      7.154979   \n",
       "\n",
       "   GTEX-S4Z8-0008-SM-2Y983_exp1  GTEX-S4Z8-0008-SM-2Y983_exp2  \\\n",
       "0                      0.971980                      0.000000   \n",
       "1                      0.000000                      0.278141   \n",
       "2                     12.635743                     10.013078   \n",
       "\n",
       "   GTEX-S95S-0008-SM-3RQ8B_ctrl  GTEX-S95S-0008-SM-3RQ8B_exp1  \\\n",
       "0                      0.000000                      0.000000   \n",
       "1                      0.294667                      0.000000   \n",
       "2                     14.144038                     13.873059   \n",
       "\n",
       "   GTEX-S95S-0008-SM-3RQ8B_exp2  GTEX-WY7C-0008-SM-3NZB5_ctrl  \\\n",
       "0                      0.262969                      0.000000   \n",
       "1                      0.262969                      0.000000   \n",
       "2                     13.937337                      1.727199   \n",
       "\n",
       "   GTEX-WY7C-0008-SM-3NZB5_exp  transcript_type  novel_or_annot  \n",
       "0                     0.397173                0           novel  \n",
       "1                     0.397173                0           novel  \n",
       "2                    11.518015                0           novel  \n",
       "\n",
       "[3 rows x 95 columns]"
      ]
     },
     "execution_count": 21,
     "metadata": {},
     "output_type": "execute_result"
    }
   ],
   "source": [
    "flair_quant_data.head(3)"
   ]
  },
  {
   "cell_type": "code",
   "execution_count": 22,
   "id": "2434d390",
   "metadata": {},
   "outputs": [
    {
     "data": {
      "text/plain": [
       "novel_or_annot\n",
       "annot    21357\n",
       "novel    72273\n",
       "Name: transcript, dtype: int64"
      ]
     },
     "execution_count": 22,
     "metadata": {},
     "output_type": "execute_result"
    }
   ],
   "source": [
    "flair_quant_data['transcript'].groupby(flair_quant_data['novel_or_annot']).count()"
   ]
  },
  {
   "cell_type": "code",
   "execution_count": 23,
   "id": "83bfa660",
   "metadata": {},
   "outputs": [],
   "source": [
    "flair_novel_transcript_quant_data = flair_quant_data[flair_quant_data.novel_or_annot=='novel']"
   ]
  },
  {
   "cell_type": "code",
   "execution_count": 24,
   "id": "57026ca8",
   "metadata": {},
   "outputs": [
    {
     "data": {
      "text/plain": [
       "(72273, 95)"
      ]
     },
     "execution_count": 24,
     "metadata": {},
     "output_type": "execute_result"
    }
   ],
   "source": [
    "flair_novel_transcript_quant_data.shape"
   ]
  },
  {
   "cell_type": "markdown",
   "id": "90f9c7f3",
   "metadata": {},
   "source": [
    "#### Transpose the dataframe"
   ]
  },
  {
   "cell_type": "code",
   "execution_count": 25,
   "id": "a12609b5",
   "metadata": {},
   "outputs": [],
   "source": [
    "novel_transcript_quant_transposed = flair_novel_transcript_quant_data.transpose().reset_index()"
   ]
  },
  {
   "cell_type": "markdown",
   "id": "f8a1f887",
   "metadata": {},
   "source": [
    "#### Replace the header"
   ]
  },
  {
   "cell_type": "code",
   "execution_count": 26,
   "id": "95d1b24e",
   "metadata": {},
   "outputs": [],
   "source": [
    "novel_transcript_quant_header = novel_transcript_quant_transposed.iloc[0] #grab the first row for the header\n",
    "novel_transcript_quant_transposed = novel_transcript_quant_transposed[1:] #remove first row from dataset\n",
    "novel_transcript_quant_transposed.columns = novel_transcript_quant_header #set the new header row"
   ]
  },
  {
   "cell_type": "markdown",
   "id": "a59d40cc",
   "metadata": {},
   "source": [
    "#### Rename first column"
   ]
  },
  {
   "cell_type": "code",
   "execution_count": 27,
   "id": "c7f8c774",
   "metadata": {},
   "outputs": [],
   "source": [
    "novel_transcript_quant_transposed = novel_transcript_quant_transposed.rename(columns = {\"transcript\":\"sample_id\"})"
   ]
  },
  {
   "cell_type": "markdown",
   "id": "ba2a9d29",
   "metadata": {},
   "source": [
    "**Drop last two rows**"
   ]
  },
  {
   "cell_type": "code",
   "execution_count": 28,
   "id": "d40a4cd3",
   "metadata": {},
   "outputs": [],
   "source": [
    "novel_transcript_quant_transposed.drop(novel_transcript_quant_transposed.tail(2).index,inplace=True)"
   ]
  },
  {
   "cell_type": "code",
   "execution_count": 29,
   "id": "63902105",
   "metadata": {},
   "outputs": [
    {
     "data": {
      "text/plain": [
       "(92, 72274)"
      ]
     },
     "execution_count": 29,
     "metadata": {},
     "output_type": "execute_result"
    }
   ],
   "source": [
    "novel_transcript_quant_transposed.shape"
   ]
  },
  {
   "cell_type": "markdown",
   "id": "d62574f1",
   "metadata": {},
   "source": [
    "**Save the dataframe**"
   ]
  },
  {
   "cell_type": "code",
   "execution_count": 30,
   "id": "dc15c766",
   "metadata": {},
   "outputs": [],
   "source": [
    "#novel_transcript_quant_transposed.to_csv('gtex_v9_data\\\\data_for_analysis\\\\gtex_database_data\\\\novel_transcript_quant_nofilter_transposed.csv', sep=',')"
   ]
  },
  {
   "cell_type": "markdown",
   "id": "29c17e6a",
   "metadata": {},
   "source": [
    "### (2) Dataframe of Annotated Transcripts"
   ]
  },
  {
   "cell_type": "code",
   "execution_count": 31,
   "id": "cee93d13",
   "metadata": {},
   "outputs": [],
   "source": [
    "flair_annotated_transcript_quant_data = flair_quant_data[flair_quant_data.novel_or_annot=='annot']"
   ]
  },
  {
   "cell_type": "code",
   "execution_count": 32,
   "id": "78334dfe",
   "metadata": {},
   "outputs": [
    {
     "data": {
      "text/plain": [
       "(21357, 95)"
      ]
     },
     "execution_count": 32,
     "metadata": {},
     "output_type": "execute_result"
    }
   ],
   "source": [
    "flair_annotated_transcript_quant_data.shape"
   ]
  },
  {
   "cell_type": "markdown",
   "id": "c50d3a54",
   "metadata": {},
   "source": [
    "#### Transpose the dataframe"
   ]
  },
  {
   "cell_type": "code",
   "execution_count": 33,
   "id": "df1e66c5",
   "metadata": {},
   "outputs": [],
   "source": [
    "annotated_transcript_quant_transposed = flair_annotated_transcript_quant_data.transpose().reset_index()"
   ]
  },
  {
   "cell_type": "markdown",
   "id": "75a04d33",
   "metadata": {},
   "source": [
    "#### Replace the header"
   ]
  },
  {
   "cell_type": "code",
   "execution_count": 34,
   "id": "9a046103",
   "metadata": {},
   "outputs": [
    {
     "data": {
      "text/plain": [
       "(94, 21358)"
      ]
     },
     "execution_count": 34,
     "metadata": {},
     "output_type": "execute_result"
    }
   ],
   "source": [
    "annotated_transcript_quant_header = annotated_transcript_quant_transposed.iloc[0] #grab the first row for the header\n",
    "annotated_transcript_quant_transposed = annotated_transcript_quant_transposed[1:] #remove first row from dataset\n",
    "annotated_transcript_quant_transposed.columns = annotated_transcript_quant_header #set the new header row\n",
    "annotated_transcript_quant_transposed.shape"
   ]
  },
  {
   "cell_type": "markdown",
   "id": "e59a8043",
   "metadata": {},
   "source": [
    "#### Rename first column"
   ]
  },
  {
   "cell_type": "code",
   "execution_count": 35,
   "id": "1b5f0c2d",
   "metadata": {},
   "outputs": [
    {
     "data": {
      "text/html": [
       "<div>\n",
       "<style scoped>\n",
       "    .dataframe tbody tr th:only-of-type {\n",
       "        vertical-align: middle;\n",
       "    }\n",
       "\n",
       "    .dataframe tbody tr th {\n",
       "        vertical-align: top;\n",
       "    }\n",
       "\n",
       "    .dataframe thead th {\n",
       "        text-align: right;\n",
       "    }\n",
       "</style>\n",
       "<table border=\"1\" class=\"dataframe\">\n",
       "  <thead>\n",
       "    <tr style=\"text-align: right;\">\n",
       "      <th></th>\n",
       "      <th>sample_id</th>\n",
       "      <th>ENST00000000233.9_ENSG00000004059.10</th>\n",
       "      <th>ENST00000000412.7_ENSG00000003056.7</th>\n",
       "      <th>ENST00000001008.5_ENSG00000004478.7</th>\n",
       "      <th>ENST00000001146.6_ENSG00000003137.8</th>\n",
       "      <th>ENST00000002125.8_ENSG00000003509.15</th>\n",
       "      <th>ENST00000002165.10_ENSG00000001036.13</th>\n",
       "      <th>ENST00000002501.10_ENSG00000003249.13</th>\n",
       "      <th>ENST00000002596.5_ENSG00000002587.9</th>\n",
       "      <th>ENST00000003100.12_ENSG00000001630.15</th>\n",
       "      <th>...</th>\n",
       "      <th>ENST00000640621.1_ENSG00000262633.2</th>\n",
       "      <th>ENST00000640621.1-1_ENSG00000262633.2</th>\n",
       "      <th>ENST00000640674.1_ENSG00000278175.3</th>\n",
       "      <th>ENST00000640752.1_ENSG00000138796.16</th>\n",
       "      <th>ENST00000640769.1_ENSG00000176225.13</th>\n",
       "      <th>ENST00000640799.1_ENSG00000143612.19</th>\n",
       "      <th>ENST00000640815.1_ENSG00000164199.16</th>\n",
       "      <th>ENST00000640876.1_ENSG00000197563.10</th>\n",
       "      <th>ENST00000640893.1_ENSG00000087258.14</th>\n",
       "      <th>ENST00000640967.1_ENSG00000082212.12</th>\n",
       "    </tr>\n",
       "  </thead>\n",
       "  <tbody>\n",
       "    <tr>\n",
       "      <th>92</th>\n",
       "      <td>GTEX-WY7C-0008-SM-3NZB5_exp</td>\n",
       "      <td>136.230313</td>\n",
       "      <td>110.811246</td>\n",
       "      <td>7.943458</td>\n",
       "      <td>0.397173</td>\n",
       "      <td>3.177383</td>\n",
       "      <td>103.26496</td>\n",
       "      <td>0.0</td>\n",
       "      <td>0.0</td>\n",
       "      <td>18.667127</td>\n",
       "      <td>...</td>\n",
       "      <td>18.667127</td>\n",
       "      <td>1.985865</td>\n",
       "      <td>0.0</td>\n",
       "      <td>0.0</td>\n",
       "      <td>5.957594</td>\n",
       "      <td>0.397173</td>\n",
       "      <td>0.0</td>\n",
       "      <td>0.794346</td>\n",
       "      <td>0.0</td>\n",
       "      <td>0.0</td>\n",
       "    </tr>\n",
       "    <tr>\n",
       "      <th>93</th>\n",
       "      <td>transcript_type</td>\n",
       "      <td>E</td>\n",
       "      <td>E</td>\n",
       "      <td>E</td>\n",
       "      <td>E</td>\n",
       "      <td>E</td>\n",
       "      <td>E</td>\n",
       "      <td>E</td>\n",
       "      <td>E</td>\n",
       "      <td>E</td>\n",
       "      <td>...</td>\n",
       "      <td>E</td>\n",
       "      <td>E</td>\n",
       "      <td>E</td>\n",
       "      <td>E</td>\n",
       "      <td>E</td>\n",
       "      <td>E</td>\n",
       "      <td>E</td>\n",
       "      <td>E</td>\n",
       "      <td>E</td>\n",
       "      <td>E</td>\n",
       "    </tr>\n",
       "    <tr>\n",
       "      <th>94</th>\n",
       "      <td>novel_or_annot</td>\n",
       "      <td>annot</td>\n",
       "      <td>annot</td>\n",
       "      <td>annot</td>\n",
       "      <td>annot</td>\n",
       "      <td>annot</td>\n",
       "      <td>annot</td>\n",
       "      <td>annot</td>\n",
       "      <td>annot</td>\n",
       "      <td>annot</td>\n",
       "      <td>...</td>\n",
       "      <td>annot</td>\n",
       "      <td>annot</td>\n",
       "      <td>annot</td>\n",
       "      <td>annot</td>\n",
       "      <td>annot</td>\n",
       "      <td>annot</td>\n",
       "      <td>annot</td>\n",
       "      <td>annot</td>\n",
       "      <td>annot</td>\n",
       "      <td>annot</td>\n",
       "    </tr>\n",
       "  </tbody>\n",
       "</table>\n",
       "<p>3 rows × 21358 columns</p>\n",
       "</div>"
      ],
      "text/plain": [
       "0                     sample_id ENST00000000233.9_ENSG00000004059.10  \\\n",
       "92  GTEX-WY7C-0008-SM-3NZB5_exp                           136.230313   \n",
       "93              transcript_type                                    E   \n",
       "94               novel_or_annot                                annot   \n",
       "\n",
       "0  ENST00000000412.7_ENSG00000003056.7 ENST00000001008.5_ENSG00000004478.7  \\\n",
       "92                          110.811246                            7.943458   \n",
       "93                                   E                                   E   \n",
       "94                               annot                               annot   \n",
       "\n",
       "0  ENST00000001146.6_ENSG00000003137.8 ENST00000002125.8_ENSG00000003509.15  \\\n",
       "92                            0.397173                             3.177383   \n",
       "93                                   E                                    E   \n",
       "94                               annot                                annot   \n",
       "\n",
       "0  ENST00000002165.10_ENSG00000001036.13  \\\n",
       "92                             103.26496   \n",
       "93                                     E   \n",
       "94                                 annot   \n",
       "\n",
       "0  ENST00000002501.10_ENSG00000003249.13 ENST00000002596.5_ENSG00000002587.9  \\\n",
       "92                                   0.0                                 0.0   \n",
       "93                                     E                                   E   \n",
       "94                                 annot                               annot   \n",
       "\n",
       "0  ENST00000003100.12_ENSG00000001630.15  ...  \\\n",
       "92                             18.667127  ...   \n",
       "93                                     E  ...   \n",
       "94                                 annot  ...   \n",
       "\n",
       "0  ENST00000640621.1_ENSG00000262633.2 ENST00000640621.1-1_ENSG00000262633.2  \\\n",
       "92                           18.667127                              1.985865   \n",
       "93                                   E                                     E   \n",
       "94                               annot                                 annot   \n",
       "\n",
       "0  ENST00000640674.1_ENSG00000278175.3 ENST00000640752.1_ENSG00000138796.16  \\\n",
       "92                                 0.0                                  0.0   \n",
       "93                                   E                                    E   \n",
       "94                               annot                                annot   \n",
       "\n",
       "0  ENST00000640769.1_ENSG00000176225.13 ENST00000640799.1_ENSG00000143612.19  \\\n",
       "92                             5.957594                             0.397173   \n",
       "93                                    E                                    E   \n",
       "94                                annot                                annot   \n",
       "\n",
       "0  ENST00000640815.1_ENSG00000164199.16 ENST00000640876.1_ENSG00000197563.10  \\\n",
       "92                                  0.0                             0.794346   \n",
       "93                                    E                                    E   \n",
       "94                                annot                                annot   \n",
       "\n",
       "0  ENST00000640893.1_ENSG00000087258.14 ENST00000640967.1_ENSG00000082212.12  \n",
       "92                                  0.0                                  0.0  \n",
       "93                                    E                                    E  \n",
       "94                                annot                                annot  \n",
       "\n",
       "[3 rows x 21358 columns]"
      ]
     },
     "execution_count": 35,
     "metadata": {},
     "output_type": "execute_result"
    }
   ],
   "source": [
    "annotated_transcript_quant_transposed = annotated_transcript_quant_transposed.rename(columns = {\"transcript\":\"sample_id\"})\n",
    "annotated_transcript_quant_transposed.tail(3)"
   ]
  },
  {
   "cell_type": "markdown",
   "id": "2e1f8f64",
   "metadata": {},
   "source": [
    "**Drop last two rows**"
   ]
  },
  {
   "cell_type": "code",
   "execution_count": 36,
   "id": "451caf66",
   "metadata": {},
   "outputs": [],
   "source": [
    "annotated_transcript_quant_transposed.drop(annotated_transcript_quant_transposed.tail(2).index,inplace=True)"
   ]
  },
  {
   "cell_type": "code",
   "execution_count": 37,
   "id": "13fcf376",
   "metadata": {},
   "outputs": [
    {
     "data": {
      "text/plain": [
       "(92, 21358)"
      ]
     },
     "execution_count": 37,
     "metadata": {},
     "output_type": "execute_result"
    }
   ],
   "source": [
    "annotated_transcript_quant_transposed.shape"
   ]
  },
  {
   "cell_type": "markdown",
   "id": "4780ad21",
   "metadata": {},
   "source": [
    "**Save the dataframe**"
   ]
  },
  {
   "cell_type": "code",
   "execution_count": 38,
   "id": "2047a309",
   "metadata": {},
   "outputs": [],
   "source": [
    "#annotated_transcript_quant_transposed.to_csv('gtex_v9_data\\\\data_for_analysis\\\\gtex_database_data\\\\annotated_transcript_quant_nofilter_transposed.csv', sep=',')"
   ]
  }
 ],
 "metadata": {
  "kernelspec": {
   "display_name": "Python 3",
   "language": "python",
   "name": "python3"
  },
  "language_info": {
   "codemirror_mode": {
    "name": "ipython",
    "version": 3
   },
   "file_extension": ".py",
   "mimetype": "text/x-python",
   "name": "python",
   "nbconvert_exporter": "python",
   "pygments_lexer": "ipython3",
   "version": "3.8.8"
  }
 },
 "nbformat": 4,
 "nbformat_minor": 5
}
